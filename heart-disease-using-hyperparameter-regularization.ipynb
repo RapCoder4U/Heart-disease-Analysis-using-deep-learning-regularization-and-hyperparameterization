{
 "cells": [
  {
   "cell_type": "code",
   "execution_count": 1,
   "metadata": {
    "_cell_guid": "b1076dfc-b9ad-4769-8c92-a6c4dae69d19",
    "_uuid": "8f2839f25d086af736a60e9eeb907d3b93b6e0e5",
    "execution": {
     "iopub.execute_input": "2020-08-28T06:18:49.078909Z",
     "iopub.status.busy": "2020-08-28T06:18:49.077913Z",
     "iopub.status.idle": "2020-08-28T06:18:49.086371Z",
     "shell.execute_reply": "2020-08-28T06:18:49.085535Z"
    },
    "papermill": {
     "duration": 0.040157,
     "end_time": "2020-08-28T06:18:49.086554",
     "exception": false,
     "start_time": "2020-08-28T06:18:49.046397",
     "status": "completed"
    },
    "tags": []
   },
   "outputs": [
    {
     "name": "stdout",
     "output_type": "stream",
     "text": [
      "/kaggle/input/heart-disease-uci/heart.csv\n"
     ]
    }
   ],
   "source": [
    "# This Python 3 environment comes with many helpful analytics libraries installed\n",
    "# It is defined by the kaggle/python Docker image: https://github.com/kaggle/docker-python\n",
    "# For example, here's several helpful packages to load\n",
    "\n",
    "import numpy as np # linear algebra\n",
    "import pandas as pd # data processing, CSV file I/O (e.g. pd.read_csv)\n",
    "\n",
    "# Input data files are available in the read-only \"../input/\" directory\n",
    "# For example, running this (by clicking run or pressing Shift+Enter) will list all files under the input directory\n",
    "\n",
    "import os\n",
    "for dirname, _, filenames in os.walk('/kaggle/input'):\n",
    "    for filename in filenames:\n",
    "        print(os.path.join(dirname, filename))\n",
    "\n",
    "# You can write up to 5GB to the current directory (/kaggle/working/) that gets preserved as output when you create a version using \"Save & Run All\" \n",
    "# You can also write temporary files to /kaggle/temp/, but they won't be saved outside of the current session"
   ]
  },
  {
   "cell_type": "code",
   "execution_count": 2,
   "metadata": {
    "_cell_guid": "79c7e3d0-c299-4dcb-8224-4455121ee9b0",
    "_uuid": "d629ff2d2480ee46fbb7e2d37f6b5fab8052498a",
    "execution": {
     "iopub.execute_input": "2020-08-28T06:18:49.136666Z",
     "iopub.status.busy": "2020-08-28T06:18:49.135863Z",
     "iopub.status.idle": "2020-08-28T06:18:50.306259Z",
     "shell.execute_reply": "2020-08-28T06:18:50.305428Z"
    },
    "papermill": {
     "duration": 1.197623,
     "end_time": "2020-08-28T06:18:50.306393",
     "exception": false,
     "start_time": "2020-08-28T06:18:49.108770",
     "status": "completed"
    },
    "tags": []
   },
   "outputs": [],
   "source": [
    "from sklearn.preprocessing import StandardScaler\n",
    "from sklearn.model_selection import train_test_split"
   ]
  },
  {
   "cell_type": "code",
   "execution_count": 3,
   "metadata": {
    "execution": {
     "iopub.execute_input": "2020-08-28T06:18:50.407438Z",
     "iopub.status.busy": "2020-08-28T06:18:50.365280Z",
     "iopub.status.idle": "2020-08-28T06:18:50.825222Z",
     "shell.execute_reply": "2020-08-28T06:18:50.824537Z"
    },
    "papermill": {
     "duration": 0.497461,
     "end_time": "2020-08-28T06:18:50.825372",
     "exception": false,
     "start_time": "2020-08-28T06:18:50.327911",
     "status": "completed"
    },
    "tags": []
   },
   "outputs": [],
   "source": [
    "import numpy as np\n",
    "import matplotlib.pyplot as plt\n",
    "import h5py\n",
    "import sklearn\n",
    "import sklearn.datasets\n",
    "import sklearn.linear_model\n",
    "import scipy.io\n",
    "\n",
    "def sigmoid(x):\n",
    "    \"\"\"\n",
    "    Compute the sigmoid of x\n",
    "\n",
    "    Arguments:\n",
    "    x -- A scalar or numpy array of any size.\n",
    "\n",
    "    Return:\n",
    "    s -- sigmoid(x)\n",
    "    \"\"\"\n",
    "    s = 1/(1+np.exp(-x))\n",
    "    return s\n",
    "\n",
    "def relu(x):\n",
    "    \"\"\"\n",
    "    Compute the relu of x\n",
    "\n",
    "    Arguments:\n",
    "    x -- A scalar or numpy array of any size.\n",
    "\n",
    "    Return:\n",
    "    s -- relu(x)\n",
    "    \"\"\"\n",
    "    s = np.maximum(0,x)\n",
    "    \n",
    "    return s\n",
    "\n",
    "def load_planar_dataset(seed):\n",
    "    \n",
    "    np.random.seed(seed)\n",
    "    \n",
    "    m = 400 # number of examples\n",
    "    N = int(m/2) # number of points per class\n",
    "    D = 2 # dimensionality\n",
    "    X = np.zeros((m,D)) # data matrix where each row is a single example\n",
    "    Y = np.zeros((m,1), dtype='uint8') # labels vector (0 for red, 1 for blue)\n",
    "    a = 4 # maximum ray of the flower\n",
    "\n",
    "    for j in range(2):\n",
    "        ix = range(N*j,N*(j+1))\n",
    "        t = np.linspace(j*3.12,(j+1)*3.12,N) + np.random.randn(N)*0.2 # theta\n",
    "        r = a*np.sin(4*t) + np.random.randn(N)*0.2 # radius\n",
    "        X[ix] = np.c_[r*np.sin(t), r*np.cos(t)]\n",
    "        Y[ix] = j\n",
    "        \n",
    "    X = X.T\n",
    "    Y = Y.T\n",
    "\n",
    "    return X, Y\n",
    "\n",
    "def initialize_parameters(layer_dims):\n",
    "    \"\"\"\n",
    "    Arguments:\n",
    "    layer_dims -- python array (list) containing the dimensions of each layer in our network\n",
    "    \n",
    "    Returns:\n",
    "    parameters -- python dictionary containing your parameters \"W1\", \"b1\", ..., \"WL\", \"bL\":\n",
    "                    W1 -- weight matrix of shape (layer_dims[l], layer_dims[l-1])\n",
    "                    b1 -- bias vector of shape (layer_dims[l], 1)\n",
    "                    Wl -- weight matrix of shape (layer_dims[l-1], layer_dims[l])\n",
    "                    bl -- bias vector of shape (1, layer_dims[l])\n",
    "                    \n",
    "    Tips:\n",
    "    - For example: the layer_dims for the \"Planar Data classification model\" would have been [2,2,1]. \n",
    "    This means W1's shape was (2,2), b1 was (1,2), W2 was (2,1) and b2 was (1,1). Now you have to generalize it!\n",
    "    - In the for loop, use parameters['W' + str(l)] to access Wl, where l is the iterative integer.\n",
    "    \"\"\"\n",
    "    \n",
    "    np.random.seed(3)\n",
    "    parameters = {}\n",
    "    L = len(layer_dims) # number of layers in the network\n",
    "\n",
    "    for l in range(1, L):\n",
    "        parameters['W' + str(l)] = np.random.randn(layer_dims[l], layer_dims[l-1]) / np.sqrt(layer_dims[l-1])\n",
    "        parameters['b' + str(l)] = np.zeros((layer_dims[l], 1))\n",
    "        \n",
    "        assert(parameters['W' + str(l)].shape == (layer_dims[l], layer_dims[l-1]))\n",
    "        assert(parameters['b' + str(l)].shape == (layer_dims[l], 1))\n",
    "\n",
    "        \n",
    "    return parameters\n",
    "\n",
    "def forward_propagation(X, parameters):\n",
    "    \"\"\"\n",
    "    Implements the forward propagation (and computes the loss) presented in Figure 2.\n",
    "    \n",
    "    Arguments:\n",
    "    X -- input dataset, of shape (input size, number of examples)\n",
    "    parameters -- python dictionary containing your parameters \"W1\", \"b1\", \"W2\", \"b2\", \"W3\", \"b3\":\n",
    "                    W1 -- weight matrix of shape ()\n",
    "                    b1 -- bias vector of shape ()\n",
    "                    W2 -- weight matrix of shape ()\n",
    "                    b2 -- bias vector of shape ()\n",
    "                    W3 -- weight matrix of shape ()\n",
    "                    b3 -- bias vector of shape ()\n",
    "    \n",
    "    Returns:\n",
    "    loss -- the loss function (vanilla logistic loss)\n",
    "    \"\"\"\n",
    "        \n",
    "    # retrieve parameters\n",
    "    W1 = parameters[\"W1\"]\n",
    "    b1 = parameters[\"b1\"]\n",
    "    W2 = parameters[\"W2\"]\n",
    "    b2 = parameters[\"b2\"]\n",
    "    W3 = parameters[\"W3\"]\n",
    "    b3 = parameters[\"b3\"]\n",
    "    \n",
    "    # LINEAR -> RELU -> LINEAR -> RELU -> LINEAR -> SIGMOID\n",
    "    Z1 = np.dot(W1, X) + b1\n",
    "    A1 = relu(Z1)\n",
    "    Z2 = np.dot(W2, A1) + b2\n",
    "    A2 = relu(Z2)\n",
    "    Z3 = np.dot(W3, A2) + b3\n",
    "    A3 = sigmoid(Z3)\n",
    "    \n",
    "    cache = (Z1, A1, W1, b1, Z2, A2, W2, b2, Z3, A3, W3, b3)\n",
    "    \n",
    "    return A3, cache\n",
    "\n",
    "def backward_propagation(X, Y, cache):\n",
    "    \"\"\"\n",
    "    Implement the backward propagation presented in figure 2.\n",
    "    \n",
    "    Arguments:\n",
    "    X -- input dataset, of shape (input size, number of examples)\n",
    "    Y -- true \"label\" vector (containing 0 if cat, 1 if non-cat)\n",
    "    cache -- cache output from forward_propagation()\n",
    "    \n",
    "    Returns:\n",
    "    gradients -- A dictionary with the gradients with respect to each parameter, activation and pre-activation variables\n",
    "    \"\"\"\n",
    "    m = X.shape[1]\n",
    "    (Z1, A1, W1, b1, Z2, A2, W2, b2, Z3, A3, W3, b3) = cache\n",
    "    \n",
    "    dZ3 = A3 - Y\n",
    "    dW3 = 1./m * np.dot(dZ3, A2.T)\n",
    "    db3 = 1./m * np.sum(dZ3, axis=1, keepdims = True)\n",
    "    \n",
    "    dA2 = np.dot(W3.T, dZ3)\n",
    "    dZ2 = np.multiply(dA2, np.int64(A2 > 0))\n",
    "    dW2 = 1./m * np.dot(dZ2, A1.T)\n",
    "    db2 = 1./m * np.sum(dZ2, axis=1, keepdims = True)\n",
    "    \n",
    "    dA1 = np.dot(W2.T, dZ2)\n",
    "    dZ1 = np.multiply(dA1, np.int64(A1 > 0))\n",
    "    dW1 = 1./m * np.dot(dZ1, X.T)\n",
    "    db1 = 1./m * np.sum(dZ1, axis=1, keepdims = True)\n",
    "    \n",
    "    gradients = {\"dZ3\": dZ3, \"dW3\": dW3, \"db3\": db3,\n",
    "                 \"dA2\": dA2, \"dZ2\": dZ2, \"dW2\": dW2, \"db2\": db2,\n",
    "                 \"dA1\": dA1, \"dZ1\": dZ1, \"dW1\": dW1, \"db1\": db1}\n",
    "    \n",
    "    return gradients\n",
    "\n",
    "def update_parameters(parameters, grads, learning_rate):\n",
    "    \"\"\"\n",
    "    Update parameters using gradient descent\n",
    "    \n",
    "    Arguments:\n",
    "    parameters -- python dictionary containing your parameters:\n",
    "                    parameters['W' + str(i)] = Wi\n",
    "                    parameters['b' + str(i)] = bi\n",
    "    grads -- python dictionary containing your gradients for each parameters:\n",
    "                    grads['dW' + str(i)] = dWi\n",
    "                    grads['db' + str(i)] = dbi\n",
    "    learning_rate -- the learning rate, scalar.\n",
    "    \n",
    "    Returns:\n",
    "    parameters -- python dictionary containing your updated parameters \n",
    "    \"\"\"\n",
    "    \n",
    "    n = len(parameters) // 2 # number of layers in the neural networks\n",
    "\n",
    "    # Update rule for each parameter\n",
    "    for k in range(n):\n",
    "        parameters[\"W\" + str(k+1)] = parameters[\"W\" + str(k+1)] - learning_rate * grads[\"dW\" + str(k+1)]\n",
    "        parameters[\"b\" + str(k+1)] = parameters[\"b\" + str(k+1)] - learning_rate * grads[\"db\" + str(k+1)]\n",
    "        \n",
    "    return parameters\n",
    "\n",
    "def predict(X, y, parameters):\n",
    "    \"\"\"\n",
    "    This function is used to predict the results of a  n-layer neural network.\n",
    "    \n",
    "    Arguments:\n",
    "    X -- data set of examples you would like to label\n",
    "    parameters -- parameters of the trained model\n",
    "    \n",
    "    Returns:\n",
    "    p -- predictions for the given dataset X\n",
    "    \"\"\"\n",
    "    \n",
    "    m = X.shape[1]\n",
    "    p = np.zeros((1,m), dtype = np.int)\n",
    "    \n",
    "    # Forward propagation\n",
    "    a3, caches = forward_propagation(X, parameters)\n",
    "    \n",
    "    # convert probas to 0/1 predictions\n",
    "    for i in range(0, a3.shape[1]):\n",
    "        if a3[0,i] > 0.5:\n",
    "            p[0,i] = 1\n",
    "        else:\n",
    "            p[0,i] = 0\n",
    "\n",
    "    # print results\n",
    "\n",
    "    #print (\"predictions: \" + str(p[0,:]))\n",
    "    #print (\"true labels: \" + str(y[0,:]))\n",
    "    print(\"Accuracy: \"  + str(np.mean((p[0,:] == y[0,:]))))\n",
    "    \n",
    "    return p\n",
    "\n",
    "def compute_cost(a3, Y):\n",
    "    \"\"\"\n",
    "    Implement the cost function\n",
    "    \n",
    "    Arguments:\n",
    "    a3 -- post-activation, output of forward propagation\n",
    "    Y -- \"true\" labels vector, same shape as a3\n",
    "    \n",
    "    Returns:\n",
    "    cost - value of the cost function\n",
    "    \"\"\"\n",
    "    m = Y.shape[1]\n",
    "    \n",
    "    logprobs = np.multiply(-np.log(a3),Y) + np.multiply(-np.log(1 - a3), 1 - Y)\n",
    "    cost = 1./m * np.nansum(logprobs)\n",
    "    \n",
    "    return cost\n",
    "\n",
    "def load_dataset():\n",
    "    train_dataset = h5py.File('datasets/train_catvnoncat.h5', \"r\")\n",
    "    train_set_x_orig = np.array(train_dataset[\"train_set_x\"][:]) # your train set features\n",
    "    train_set_y_orig = np.array(train_dataset[\"train_set_y\"][:]) # your train set labels\n",
    "\n",
    "    test_dataset = h5py.File('datasets/test_catvnoncat.h5', \"r\")\n",
    "    test_set_x_orig = np.array(test_dataset[\"test_set_x\"][:]) # your test set features\n",
    "    test_set_y_orig = np.array(test_dataset[\"test_set_y\"][:]) # your test set labels\n",
    "\n",
    "    classes = np.array(test_dataset[\"list_classes\"][:]) # the list of classes\n",
    "    \n",
    "    train_set_y = train_set_y_orig.reshape((1, train_set_y_orig.shape[0]))\n",
    "    test_set_y = test_set_y_orig.reshape((1, test_set_y_orig.shape[0]))\n",
    "    \n",
    "    train_set_x_orig = train_set_x_orig.reshape(train_set_x_orig.shape[0], -1).T\n",
    "    test_set_x_orig = test_set_x_orig.reshape(test_set_x_orig.shape[0], -1).T\n",
    "    \n",
    "    train_set_x = train_set_x_orig/255\n",
    "    test_set_x = test_set_x_orig/255\n",
    "\n",
    "    return train_set_x, train_set_y, test_set_x, test_set_y, classes\n",
    "\n",
    "\n",
    "def predict_dec(parameters, X):\n",
    "    \"\"\"\n",
    "    Used for plotting decision boundary.\n",
    "    \n",
    "    Arguments:\n",
    "    parameters -- python dictionary containing your parameters \n",
    "    X -- input data of size (m, K)\n",
    "    \n",
    "    Returns\n",
    "    predictions -- vector of predictions of our model (red: 0 / blue: 1)\n",
    "    \"\"\"\n",
    "    \n",
    "    # Predict using forward propagation and a classification threshold of 0.5\n",
    "    a3, cache = forward_propagation(X, parameters)\n",
    "    predictions = (a3>0.5)\n",
    "    return predictions\n",
    "\n",
    "def load_planar_dataset(randomness, seed):\n",
    "    \n",
    "    np.random.seed(seed)\n",
    "    \n",
    "    m = 50\n",
    "    N = int(m/2) # number of points per class\n",
    "    D = 2 # dimensionality\n",
    "    X = np.zeros((m,D)) # data matrix where each row is a single example\n",
    "    Y = np.zeros((m,1), dtype='uint8') # labels vector (0 for red, 1 for blue)\n",
    "    a = 2 # maximum ray of the flower\n",
    "\n",
    "    for j in range(2):\n",
    "        \n",
    "        ix = range(N*j,N*(j+1))\n",
    "        if j == 0:\n",
    "            t = np.linspace(j, 4*3.1415*(j+1),N) #+ np.random.randn(N)*randomness # theta\n",
    "            r = 0.3*np.square(t) + np.random.randn(N)*randomness # radius\n",
    "        if j == 1:\n",
    "            t = np.linspace(j, 2*3.1415*(j+1),N) #+ np.random.randn(N)*randomness # theta\n",
    "            r = 0.2*np.square(t) + np.random.randn(N)*randomness # radius\n",
    "            \n",
    "        X[ix] = np.c_[r*np.cos(t), r*np.sin(t)]\n",
    "        Y[ix] = j\n",
    "        \n",
    "    X = X.T\n",
    "    Y = Y.T\n",
    "\n",
    "    return X, Y\n",
    "\n",
    "def plot_decision_boundary(model, X, y):\n",
    "    # Set min and max values and give it some padding\n",
    "    x_min, x_max = X[0, :].min() - 1, X[0, :].max() + 1\n",
    "    y_min, y_max = X[1, :].min() - 1, X[1, :].max() + 1\n",
    "    h = 0.01\n",
    "    # Generate a grid of points with distance h between them\n",
    "    xx, yy = np.meshgrid(np.arange(x_min, x_max, h), np.arange(y_min, y_max, h))\n",
    "    # Predict the function value for the whole grid\n",
    "    Z = model(np.c_[xx.ravel(), yy.ravel()])\n",
    "    Z = Z.reshape(xx.shape)\n",
    "    # Plot the contour and training examples\n",
    "    plt.contourf(xx, yy, Z, cmap=plt.cm.Spectral)\n",
    "    plt.ylabel('x2')\n",
    "    plt.xlabel('x1')\n",
    "    plt.scatter(X[0, :], X[1, :], c=y, cmap=plt.cm.Spectral)\n",
    "    plt.show()\n",
    "    \n",
    "def load_2D_dataset():\n",
    "    data = scipy.io.loadmat('datasets/data.mat')\n",
    "    train_X = data['X'].T\n",
    "    train_Y = data['y'].T\n",
    "    test_X = data['Xval'].T\n",
    "    test_Y = data['yval'].T\n",
    "\n",
    "    plt.scatter(train_X[0, :], train_X[1, :], c=train_Y, s=40, cmap=plt.cm.Spectral);\n",
    "    \n",
    "    return train_X, train_Y, test_X, test_Y\n",
    "def compute_loss(a3, Y):\n",
    "    \n",
    "    \"\"\"\n",
    "    Implement the loss function\n",
    "    \n",
    "    Arguments:\n",
    "    a3 -- post-activation, output of forward propagation\n",
    "    Y -- \"true\" labels vector, same shape as a3\n",
    "    \n",
    "    Returns:\n",
    "    loss - value of the loss function\n",
    "    \"\"\"\n",
    "    \n",
    "    m = Y.shape[1]\n",
    "    logprobs = np.multiply(-np.log(a3),Y) + np.multiply(-np.log(1 - a3), 1 - Y)\n",
    "    loss = 1./m * np.nansum(logprobs)\n",
    "    \n",
    "    return loss"
   ]
  },
  {
   "cell_type": "code",
   "execution_count": 4,
   "metadata": {
    "execution": {
     "iopub.execute_input": "2020-08-28T06:18:50.881128Z",
     "iopub.status.busy": "2020-08-28T06:18:50.880186Z",
     "iopub.status.idle": "2020-08-28T06:18:50.895584Z",
     "shell.execute_reply": "2020-08-28T06:18:50.894753Z"
    },
    "papermill": {
     "duration": 0.046551,
     "end_time": "2020-08-28T06:18:50.895720",
     "exception": false,
     "start_time": "2020-08-28T06:18:50.849169",
     "status": "completed"
    },
    "tags": []
   },
   "outputs": [],
   "source": [
    "data=pd.read_csv('../input/heart-disease-uci/heart.csv')"
   ]
  },
  {
   "cell_type": "code",
   "execution_count": 5,
   "metadata": {
    "execution": {
     "iopub.execute_input": "2020-08-28T06:18:50.958163Z",
     "iopub.status.busy": "2020-08-28T06:18:50.957376Z",
     "iopub.status.idle": "2020-08-28T06:18:50.969814Z",
     "shell.execute_reply": "2020-08-28T06:18:50.970510Z"
    },
    "papermill": {
     "duration": 0.052834,
     "end_time": "2020-08-28T06:18:50.970678",
     "exception": false,
     "start_time": "2020-08-28T06:18:50.917844",
     "status": "completed"
    },
    "tags": []
   },
   "outputs": [
    {
     "data": {
      "text/html": [
       "<div>\n",
       "<style scoped>\n",
       "    .dataframe tbody tr th:only-of-type {\n",
       "        vertical-align: middle;\n",
       "    }\n",
       "\n",
       "    .dataframe tbody tr th {\n",
       "        vertical-align: top;\n",
       "    }\n",
       "\n",
       "    .dataframe thead th {\n",
       "        text-align: right;\n",
       "    }\n",
       "</style>\n",
       "<table border=\"1\" class=\"dataframe\">\n",
       "  <thead>\n",
       "    <tr style=\"text-align: right;\">\n",
       "      <th></th>\n",
       "      <th>age</th>\n",
       "      <th>sex</th>\n",
       "      <th>cp</th>\n",
       "      <th>trestbps</th>\n",
       "      <th>chol</th>\n",
       "      <th>fbs</th>\n",
       "      <th>restecg</th>\n",
       "      <th>thalach</th>\n",
       "      <th>exang</th>\n",
       "      <th>oldpeak</th>\n",
       "      <th>slope</th>\n",
       "      <th>ca</th>\n",
       "      <th>thal</th>\n",
       "      <th>target</th>\n",
       "    </tr>\n",
       "  </thead>\n",
       "  <tbody>\n",
       "    <tr>\n",
       "      <th>0</th>\n",
       "      <td>63</td>\n",
       "      <td>1</td>\n",
       "      <td>3</td>\n",
       "      <td>145</td>\n",
       "      <td>233</td>\n",
       "      <td>1</td>\n",
       "      <td>0</td>\n",
       "      <td>150</td>\n",
       "      <td>0</td>\n",
       "      <td>2.3</td>\n",
       "      <td>0</td>\n",
       "      <td>0</td>\n",
       "      <td>1</td>\n",
       "      <td>1</td>\n",
       "    </tr>\n",
       "    <tr>\n",
       "      <th>1</th>\n",
       "      <td>37</td>\n",
       "      <td>1</td>\n",
       "      <td>2</td>\n",
       "      <td>130</td>\n",
       "      <td>250</td>\n",
       "      <td>0</td>\n",
       "      <td>1</td>\n",
       "      <td>187</td>\n",
       "      <td>0</td>\n",
       "      <td>3.5</td>\n",
       "      <td>0</td>\n",
       "      <td>0</td>\n",
       "      <td>2</td>\n",
       "      <td>1</td>\n",
       "    </tr>\n",
       "    <tr>\n",
       "      <th>2</th>\n",
       "      <td>41</td>\n",
       "      <td>0</td>\n",
       "      <td>1</td>\n",
       "      <td>130</td>\n",
       "      <td>204</td>\n",
       "      <td>0</td>\n",
       "      <td>0</td>\n",
       "      <td>172</td>\n",
       "      <td>0</td>\n",
       "      <td>1.4</td>\n",
       "      <td>2</td>\n",
       "      <td>0</td>\n",
       "      <td>2</td>\n",
       "      <td>1</td>\n",
       "    </tr>\n",
       "    <tr>\n",
       "      <th>3</th>\n",
       "      <td>56</td>\n",
       "      <td>1</td>\n",
       "      <td>1</td>\n",
       "      <td>120</td>\n",
       "      <td>236</td>\n",
       "      <td>0</td>\n",
       "      <td>1</td>\n",
       "      <td>178</td>\n",
       "      <td>0</td>\n",
       "      <td>0.8</td>\n",
       "      <td>2</td>\n",
       "      <td>0</td>\n",
       "      <td>2</td>\n",
       "      <td>1</td>\n",
       "    </tr>\n",
       "    <tr>\n",
       "      <th>4</th>\n",
       "      <td>57</td>\n",
       "      <td>0</td>\n",
       "      <td>0</td>\n",
       "      <td>120</td>\n",
       "      <td>354</td>\n",
       "      <td>0</td>\n",
       "      <td>1</td>\n",
       "      <td>163</td>\n",
       "      <td>1</td>\n",
       "      <td>0.6</td>\n",
       "      <td>2</td>\n",
       "      <td>0</td>\n",
       "      <td>2</td>\n",
       "      <td>1</td>\n",
       "    </tr>\n",
       "  </tbody>\n",
       "</table>\n",
       "</div>"
      ],
      "text/plain": [
       "   age  sex  cp  trestbps  chol  fbs  restecg  thalach  exang  oldpeak  slope  \\\n",
       "0   63    1   3       145   233    1        0      150      0      2.3      0   \n",
       "1   37    1   2       130   250    0        1      187      0      3.5      0   \n",
       "2   41    0   1       130   204    0        0      172      0      1.4      2   \n",
       "3   56    1   1       120   236    0        1      178      0      0.8      2   \n",
       "4   57    0   0       120   354    0        1      163      1      0.6      2   \n",
       "\n",
       "   ca  thal  target  \n",
       "0   0     1       1  \n",
       "1   0     2       1  \n",
       "2   0     2       1  \n",
       "3   0     2       1  \n",
       "4   0     2       1  "
      ]
     },
     "execution_count": 5,
     "metadata": {},
     "output_type": "execute_result"
    }
   ],
   "source": [
    "data.head()"
   ]
  },
  {
   "cell_type": "code",
   "execution_count": 6,
   "metadata": {
    "execution": {
     "iopub.execute_input": "2020-08-28T06:18:51.029639Z",
     "iopub.status.busy": "2020-08-28T06:18:51.028547Z",
     "iopub.status.idle": "2020-08-28T06:18:51.032110Z",
     "shell.execute_reply": "2020-08-28T06:18:51.031344Z"
    },
    "papermill": {
     "duration": 0.038609,
     "end_time": "2020-08-28T06:18:51.032244",
     "exception": false,
     "start_time": "2020-08-28T06:18:50.993635",
     "status": "completed"
    },
    "tags": []
   },
   "outputs": [],
   "source": [
    "X=data.drop(columns=['target'],axis=1)\n",
    "y=data['target'].values"
   ]
  },
  {
   "cell_type": "code",
   "execution_count": 7,
   "metadata": {
    "execution": {
     "iopub.execute_input": "2020-08-28T06:18:51.085057Z",
     "iopub.status.busy": "2020-08-28T06:18:51.084146Z",
     "iopub.status.idle": "2020-08-28T06:18:51.087629Z",
     "shell.execute_reply": "2020-08-28T06:18:51.087032Z"
    },
    "papermill": {
     "duration": 0.032335,
     "end_time": "2020-08-28T06:18:51.087769",
     "exception": false,
     "start_time": "2020-08-28T06:18:51.055434",
     "status": "completed"
    },
    "tags": []
   },
   "outputs": [],
   "source": [
    "X=np.array(X)"
   ]
  },
  {
   "cell_type": "code",
   "execution_count": 8,
   "metadata": {
    "execution": {
     "iopub.execute_input": "2020-08-28T06:18:51.140420Z",
     "iopub.status.busy": "2020-08-28T06:18:51.139603Z",
     "iopub.status.idle": "2020-08-28T06:18:51.142633Z",
     "shell.execute_reply": "2020-08-28T06:18:51.141834Z"
    },
    "papermill": {
     "duration": 0.031639,
     "end_time": "2020-08-28T06:18:51.142763",
     "exception": false,
     "start_time": "2020-08-28T06:18:51.111124",
     "status": "completed"
    },
    "tags": []
   },
   "outputs": [],
   "source": [
    "sc=StandardScaler()"
   ]
  },
  {
   "cell_type": "code",
   "execution_count": 9,
   "metadata": {
    "execution": {
     "iopub.execute_input": "2020-08-28T06:18:51.196104Z",
     "iopub.status.busy": "2020-08-28T06:18:51.195050Z",
     "iopub.status.idle": "2020-08-28T06:18:51.199061Z",
     "shell.execute_reply": "2020-08-28T06:18:51.199612Z"
    },
    "papermill": {
     "duration": 0.033666,
     "end_time": "2020-08-28T06:18:51.199786",
     "exception": false,
     "start_time": "2020-08-28T06:18:51.166120",
     "status": "completed"
    },
    "tags": []
   },
   "outputs": [],
   "source": [
    "X=sc.fit_transform(X)"
   ]
  },
  {
   "cell_type": "code",
   "execution_count": 10,
   "metadata": {
    "execution": {
     "iopub.execute_input": "2020-08-28T06:18:51.262609Z",
     "iopub.status.busy": "2020-08-28T06:18:51.260666Z",
     "iopub.status.idle": "2020-08-28T06:18:51.266129Z",
     "shell.execute_reply": "2020-08-28T06:18:51.265475Z"
    },
    "papermill": {
     "duration": 0.043177,
     "end_time": "2020-08-28T06:18:51.266258",
     "exception": false,
     "start_time": "2020-08-28T06:18:51.223081",
     "status": "completed"
    },
    "tags": []
   },
   "outputs": [],
   "source": [
    "def model(X, Y, learning_rate = 0.01, num_iterations = 15000, print_cost = True, initialization = \"he\"):\n",
    "    \"\"\"\n",
    "    Implements a three-layer neural network: LINEAR->RELU->LINEAR->RELU->LINEAR->SIGMOID.\n",
    "    \n",
    "    Arguments:\n",
    "    X -- input data, of shape (2, number of examples)\n",
    "    Y -- true \"label\" vector (containing 0 for red dots; 1 for blue dots), of shape (1, number of examples)\n",
    "    learning_rate -- learning rate for gradient descent \n",
    "    num_iterations -- number of iterations to run gradient descent\n",
    "    print_cost -- if True, print the cost every 1000 iterations\n",
    "    initialization -- flag to choose which initialization to use (\"zeros\",\"random\" or \"he\")\n",
    "    \n",
    "    Returns:\n",
    "    parameters -- parameters learnt by the model\n",
    "    \"\"\"\n",
    "        \n",
    "    grads = {}\n",
    "    costs = [] # to keep track of the loss\n",
    "    m = X.shape[1] # number of examples\n",
    "    layers_dims = [X.shape[0], 10, 5, 1]\n",
    "    \n",
    "    # Initialize parameters dictionary.\n",
    "    if initialization == \"zeros\":\n",
    "        parameters = initialize_parameters_zeros(layers_dims)\n",
    "    elif initialization == \"random\":\n",
    "        parameters = initialize_parameters_random(layers_dims)\n",
    "    elif initialization == \"he\":\n",
    "        parameters = initialize_parameters_he(layers_dims)\n",
    "\n",
    "    # Loop (gradient descent)\n",
    "\n",
    "    for i in range(0, num_iterations):\n",
    "\n",
    "        # Forward propagation: LINEAR -> RELU -> LINEAR -> RELU -> LINEAR -> SIGMOID.\n",
    "        a3, cache = forward_propagation(X, parameters)\n",
    "        \n",
    "        # Loss\n",
    "        cost = compute_loss(a3, Y)\n",
    "\n",
    "        # Backward propagation.\n",
    "        grads = backward_propagation(X, Y, cache)\n",
    "        \n",
    "        # Update parameters.\n",
    "        parameters = update_parameters(parameters, grads, learning_rate)\n",
    "        \n",
    "        # Print the loss every 1000 iterations\n",
    "        if print_cost and i % 1000 == 0:\n",
    "            print(\"Cost after iteration {}: {}\".format(i, cost))\n",
    "            costs.append(cost)\n",
    "            \n",
    "    # plot the loss\n",
    "    plt.plot(costs)\n",
    "    plt.ylabel('cost')\n",
    "    plt.xlabel('iterations (per hundreds)')\n",
    "    plt.title(\"Learning rate =\" + str(learning_rate))\n",
    "    plt.show()\n",
    "    \n",
    "    return parameters"
   ]
  },
  {
   "cell_type": "code",
   "execution_count": 11,
   "metadata": {
    "execution": {
     "iopub.execute_input": "2020-08-28T06:18:51.320532Z",
     "iopub.status.busy": "2020-08-28T06:18:51.319713Z",
     "iopub.status.idle": "2020-08-28T06:18:51.323357Z",
     "shell.execute_reply": "2020-08-28T06:18:51.322590Z"
    },
    "papermill": {
     "duration": 0.033701,
     "end_time": "2020-08-28T06:18:51.323484",
     "exception": false,
     "start_time": "2020-08-28T06:18:51.289783",
     "status": "completed"
    },
    "tags": []
   },
   "outputs": [],
   "source": [
    "train_X,test_X,train_Y,test_Y=train_test_split( X, y, test_size=0.10, random_state=8)"
   ]
  },
  {
   "cell_type": "code",
   "execution_count": 12,
   "metadata": {
    "execution": {
     "iopub.execute_input": "2020-08-28T06:18:51.378242Z",
     "iopub.status.busy": "2020-08-28T06:18:51.377309Z",
     "iopub.status.idle": "2020-08-28T06:18:51.380749Z",
     "shell.execute_reply": "2020-08-28T06:18:51.380096Z"
    },
    "papermill": {
     "duration": 0.033768,
     "end_time": "2020-08-28T06:18:51.380884",
     "exception": false,
     "start_time": "2020-08-28T06:18:51.347116",
     "status": "completed"
    },
    "tags": []
   },
   "outputs": [],
   "source": [
    "train_X = train_X.T\n",
    "train_Y = train_Y.reshape((1, train_Y.shape[0]))\n",
    "test_X = test_X.T\n",
    "test_Y = test_Y.reshape((1, test_Y.shape[0]))"
   ]
  },
  {
   "cell_type": "markdown",
   "execution_count": null,
   "metadata": {
    "papermill": {
     "duration": 0.023477,
     "end_time": "2020-08-28T06:18:51.428366",
     "exception": false,
     "start_time": "2020-08-28T06:18:51.404889",
     "status": "completed"
    },
    "tags": []
   },
   "source": [
    "Zero initialization"
   ]
  },
  {
   "cell_type": "code",
   "execution_count": 13,
   "metadata": {
    "execution": {
     "iopub.execute_input": "2020-08-28T06:18:51.485838Z",
     "iopub.status.busy": "2020-08-28T06:18:51.484817Z",
     "iopub.status.idle": "2020-08-28T06:18:51.487307Z",
     "shell.execute_reply": "2020-08-28T06:18:51.487851Z"
    },
    "papermill": {
     "duration": 0.035877,
     "end_time": "2020-08-28T06:18:51.488050",
     "exception": false,
     "start_time": "2020-08-28T06:18:51.452173",
     "status": "completed"
    },
    "tags": []
   },
   "outputs": [],
   "source": [
    "# GRADED FUNCTION: initialize_parameters_zeros \n",
    "\n",
    "def initialize_parameters_zeros(layers_dims):\n",
    "    \"\"\"\n",
    "    Arguments:\n",
    "    layer_dims -- python array (list) containing the size of each layer.\n",
    "    \n",
    "    Returns:\n",
    "    parameters -- python dictionary containing your parameters \"W1\", \"b1\", ..., \"WL\", \"bL\":\n",
    "                    W1 -- weight matrix of shape (layers_dims[1], layers_dims[0])\n",
    "                    b1 -- bias vector of shape (layers_dims[1], 1)\n",
    "                    ...\n",
    "                    WL -- weight matrix of shape (layers_dims[L], layers_dims[L-1])\n",
    "                    bL -- bias vector of shape (layers_dims[L], 1)\n",
    "    \"\"\"\n",
    "    \n",
    "    parameters = {}\n",
    "    L = len(layers_dims)            # number of layers in the network\n",
    "    \n",
    "    for l in range(1, L):\n",
    "        ### START CODE HERE ### (≈ 2 lines of code)\n",
    "        parameters['W' + str(l)] = np.zeros((layers_dims[l], layers_dims[l - 1]))\n",
    "        parameters['b' + str(l)] = np.zeros((layers_dims[l], 1))\n",
    "        ### END CODE HERE ###\n",
    "    return parameters"
   ]
  },
  {
   "cell_type": "code",
   "execution_count": 14,
   "metadata": {
    "execution": {
     "iopub.execute_input": "2020-08-28T06:18:51.549238Z",
     "iopub.status.busy": "2020-08-28T06:18:51.548122Z",
     "iopub.status.idle": "2020-08-28T06:18:51.553101Z",
     "shell.execute_reply": "2020-08-28T06:18:51.551881Z"
    },
    "papermill": {
     "duration": 0.041304,
     "end_time": "2020-08-28T06:18:51.553270",
     "exception": false,
     "start_time": "2020-08-28T06:18:51.511966",
     "status": "completed"
    },
    "tags": []
   },
   "outputs": [
    {
     "name": "stdout",
     "output_type": "stream",
     "text": [
      "W1 = [[0. 0. 0. 0. 0. 0. 0. 0. 0. 0. 0. 0. 0.]\n",
      " [0. 0. 0. 0. 0. 0. 0. 0. 0. 0. 0. 0. 0.]\n",
      " [0. 0. 0. 0. 0. 0. 0. 0. 0. 0. 0. 0. 0.]\n",
      " [0. 0. 0. 0. 0. 0. 0. 0. 0. 0. 0. 0. 0.]\n",
      " [0. 0. 0. 0. 0. 0. 0. 0. 0. 0. 0. 0. 0.]\n",
      " [0. 0. 0. 0. 0. 0. 0. 0. 0. 0. 0. 0. 0.]\n",
      " [0. 0. 0. 0. 0. 0. 0. 0. 0. 0. 0. 0. 0.]\n",
      " [0. 0. 0. 0. 0. 0. 0. 0. 0. 0. 0. 0. 0.]\n",
      " [0. 0. 0. 0. 0. 0. 0. 0. 0. 0. 0. 0. 0.]\n",
      " [0. 0. 0. 0. 0. 0. 0. 0. 0. 0. 0. 0. 0.]]\n",
      "b1 = [[0.]\n",
      " [0.]\n",
      " [0.]\n",
      " [0.]\n",
      " [0.]\n",
      " [0.]\n",
      " [0.]\n",
      " [0.]\n",
      " [0.]\n",
      " [0.]]\n",
      "W2 = [[0. 0. 0. 0. 0. 0. 0. 0. 0. 0.]]\n",
      "b2 = [[0.]]\n"
     ]
    }
   ],
   "source": [
    "parameters = initialize_parameters_zeros([13,10,1])\n",
    "print(\"W1 = \" + str(parameters[\"W1\"]))\n",
    "print(\"b1 = \" + str(parameters[\"b1\"]))\n",
    "print(\"W2 = \" + str(parameters[\"W2\"]))\n",
    "print(\"b2 = \" + str(parameters[\"b2\"]))"
   ]
  },
  {
   "cell_type": "code",
   "execution_count": 15,
   "metadata": {
    "execution": {
     "iopub.execute_input": "2020-08-28T06:18:51.609931Z",
     "iopub.status.busy": "2020-08-28T06:18:51.609155Z",
     "iopub.status.idle": "2020-08-28T06:18:56.255770Z",
     "shell.execute_reply": "2020-08-28T06:18:56.256565Z"
    },
    "papermill": {
     "duration": 4.678156,
     "end_time": "2020-08-28T06:18:56.256783",
     "exception": false,
     "start_time": "2020-08-28T06:18:51.578627",
     "status": "completed"
    },
    "tags": []
   },
   "outputs": [
    {
     "name": "stdout",
     "output_type": "stream",
     "text": [
      "Cost after iteration 0: 0.6931471805599453\n",
      "Cost after iteration 1000: 0.6909707870846653\n",
      "Cost after iteration 2000: 0.6909560186067892\n",
      "Cost after iteration 3000: 0.6909559176124648\n",
      "Cost after iteration 4000: 0.6909559169212595\n",
      "Cost after iteration 5000: 0.6909559169165284\n",
      "Cost after iteration 6000: 0.6909559169164963\n",
      "Cost after iteration 7000: 0.690955916916496\n",
      "Cost after iteration 8000: 0.6909559169164959\n",
      "Cost after iteration 9000: 0.6909559169164959\n",
      "Cost after iteration 10000: 0.6909559169164959\n",
      "Cost after iteration 11000: 0.6909559169164959\n",
      "Cost after iteration 12000: 0.6909559169164959\n",
      "Cost after iteration 13000: 0.6909559169164959\n",
      "Cost after iteration 14000: 0.6909559169164959\n"
     ]
    },
    {
     "data": {
      "image/png": "[encoded data removed]",
      "text/plain": [
       "<Figure size 432x288 with 1 Axes>"
      ]
     },
     "metadata": {
      "needs_background": "light"
     },
     "output_type": "display_data"
    },
    {
     "name": "stdout",
     "output_type": "stream",
     "text": [
      "On the train set:\n",
      "Accuracy: 0.5330882352941176\n",
      "On the test set:\n",
      "Accuracy: 0.6451612903225806\n"
     ]
    }
   ],
   "source": [
    "parameters = model(train_X, train_Y, initialization = \"zeros\")\n",
    "print (\"On the train set:\")\n",
    "predictions_train = predict(train_X, train_Y, parameters)\n",
    "print (\"On the test set:\")\n",
    "predictions_test = predict(test_X, test_Y, parameters)"
   ]
  },
  {
   "cell_type": "markdown",
   "execution_count": null,
   "metadata": {
    "papermill": {
     "duration": 0.025045,
     "end_time": "2020-08-28T06:18:56.308567",
     "exception": false,
     "start_time": "2020-08-28T06:18:56.283522",
     "status": "completed"
    },
    "tags": []
   },
   "source": [
    "Random Initialization"
   ]
  },
  {
   "cell_type": "code",
   "execution_count": 16,
   "metadata": {
    "execution": {
     "iopub.execute_input": "2020-08-28T06:18:56.370245Z",
     "iopub.status.busy": "2020-08-28T06:18:56.369127Z",
     "iopub.status.idle": "2020-08-28T06:18:56.372595Z",
     "shell.execute_reply": "2020-08-28T06:18:56.371855Z"
    },
    "papermill": {
     "duration": 0.038067,
     "end_time": "2020-08-28T06:18:56.372728",
     "exception": false,
     "start_time": "2020-08-28T06:18:56.334661",
     "status": "completed"
    },
    "tags": []
   },
   "outputs": [],
   "source": [
    "# GRADED FUNCTION: initialize_parameters_random\n",
    "\n",
    "def initialize_parameters_random(layers_dims):\n",
    "    \"\"\"\n",
    "    Arguments:\n",
    "    layer_dims -- python array (list) containing the size of each layer.\n",
    "    \n",
    "    Returns:\n",
    "    parameters -- python dictionary containing your parameters \"W1\", \"b1\", ..., \"WL\", \"bL\":\n",
    "                    W1 -- weight matrix of shape (layers_dims[1], layers_dims[0])\n",
    "                    b1 -- bias vector of shape (layers_dims[1], 1)\n",
    "                    ...\n",
    "                    WL -- weight matrix of shape (layers_dims[L], layers_dims[L-1])\n",
    "                    bL -- bias vector of shape (layers_dims[L], 1)\n",
    "    \"\"\"\n",
    "    \n",
    "    np.random.seed(3)               # This seed makes sure your \"random\" numbers will be the as ours\n",
    "    parameters = {}\n",
    "    L = len(layers_dims)            # integer representing the number of layers\n",
    "    \n",
    "    for l in range(1, L):\n",
    "        ### START CODE HERE ### (≈ 2 lines of code)\n",
    "        parameters['W' + str(l)] = np.random.randn(layers_dims[l], layers_dims[l - 1]) * 10\n",
    "        parameters['b' + str(l)] = np.zeros((layers_dims[l], 1))\n",
    "        ### END CODE HERE ###\n",
    "\n",
    "    return parameters\n"
   ]
  },
  {
   "cell_type": "code",
   "execution_count": 17,
   "metadata": {
    "execution": {
     "iopub.execute_input": "2020-08-28T06:18:56.434157Z",
     "iopub.status.busy": "2020-08-28T06:18:56.433199Z",
     "iopub.status.idle": "2020-08-28T06:18:56.438493Z",
     "shell.execute_reply": "2020-08-28T06:18:56.439161Z"
    },
    "papermill": {
     "duration": 0.041042,
     "end_time": "2020-08-28T06:18:56.439326",
     "exception": false,
     "start_time": "2020-08-28T06:18:56.398284",
     "status": "completed"
    },
    "tags": []
   },
   "outputs": [
    {
     "name": "stdout",
     "output_type": "stream",
     "text": [
      "W1 = [[ 17.88628473   4.36509851   0.96497468 -18.63492703  -2.77388203\n",
      "   -3.54758979  -0.82741481  -6.27000677  -0.43818169  -4.7721803\n",
      "  -13.13864753   8.8462238    8.81318042]\n",
      " [ 17.09573064   0.50033642  -4.04677415  -5.45359948 -15.46477316\n",
      "    9.82367434 -11.0106763  -11.85046527  -2.05649899  14.86148355\n",
      "    2.36716267 -10.2378514   -7.129932  ]\n",
      " [  6.25244966  -1.60513363  -7.6883635   -2.30030722   7.45056266\n",
      "   19.76110783 -12.44123329  -6.26416911  -8.03766095 -24.19083173\n",
      "   -9.23792022 -10.23875761  11.23977959]\n",
      " [ -1.31914233 -16.23285446   6.46675452  -3.56270759 -17.43141037\n",
      "   -5.96649642  -5.8859438   -8.73882298   0.29713815 -22.48257768\n",
      "   -2.67761865  10.13183442   8.52797841]\n",
      " [ 11.081875    11.19390655  14.87543132 -11.18300684   8.45833407\n",
      "  -18.60889529  -6.02885104 -19.14472043  10.48147512  13.33737819\n",
      "   -1.97414679  17.74645031  -6.7472751 ]\n",
      " [  1.50616865   1.52945703 -10.64195274   4.37946611  19.3897846\n",
      "  -10.24930875   8.99338446  -1.54506852  17.69627303   4.83788348\n",
      "    6.762164     6.43163281   2.49086707]\n",
      " [-13.95763503  13.91662908 -13.70669013   2.38563192   6.14077088\n",
      "   -8.37912273   1.45063214  11.67882286  -0.2410447   -8.88657418\n",
      "  -29.15737752  -9.71840503  -5.91078738]\n",
      " [ -5.16417368  -9.5999618    3.77295234  -5.7470842   -1.09454334\n",
      "    6.790716    -8.55437169  -3.00206075  21.58149342   8.74285723\n",
      "  -12.93536632  -0.79740938   5.64485518]\n",
      " [ 12.33471044   1.48986395  -5.30582144  -7.30526644   6.45061985\n",
      "    3.13060374  -5.16647925  -1.89071666  -4.16198015   7.24657658\n",
      "   -6.89960677   4.86414475   8.5151895 ]\n",
      " [  4.86249326  -8.34239851  13.44992457  -6.78212679   4.26435074\n",
      "   -7.53334794 -17.44110251   2.25750266   2.87035165  -0.77440961\n",
      "    2.76068497  -6.48410888  -7.37464837]]\n",
      "b1 = [[0.]\n",
      " [0.]\n",
      " [0.]\n",
      " [0.]\n",
      " [0.]\n",
      " [0.]\n",
      " [0.]\n",
      " [0.]\n",
      " [0.]\n",
      " [0.]]\n",
      "W2 = [[ -1.68090099  19.09276809   8.14814541  -5.19991754   5.58713205\n",
      "   -4.7836466   -4.57260787   8.59284008  -5.25264645 -16.75634634]]\n",
      "b2 = [[0.]]\n"
     ]
    }
   ],
   "source": [
    "parameters = initialize_parameters_random([13, 10, 1])\n",
    "print(\"W1 = \" + str(parameters[\"W1\"]))\n",
    "print(\"b1 = \" + str(parameters[\"b1\"]))\n",
    "print(\"W2 = \" + str(parameters[\"W2\"]))\n",
    "print(\"b2 = \" + str(parameters[\"b2\"]))"
   ]
  },
  {
   "cell_type": "code",
   "execution_count": 18,
   "metadata": {
    "execution": {
     "iopub.execute_input": "2020-08-28T06:18:56.498158Z",
     "iopub.status.busy": "2020-08-28T06:18:56.496914Z",
     "iopub.status.idle": "2020-08-28T06:19:01.799552Z",
     "shell.execute_reply": "2020-08-28T06:19:01.798644Z"
    },
    "papermill": {
     "duration": 5.334599,
     "end_time": "2020-08-28T06:19:01.799764",
     "exception": false,
     "start_time": "2020-08-28T06:18:56.465165",
     "status": "completed"
    },
    "tags": []
   },
   "outputs": [
    {
     "name": "stdout",
     "output_type": "stream",
     "text": [
      "Cost after iteration 0: inf\n"
     ]
    },
    {
     "name": "stderr",
     "output_type": "stream",
     "text": [
      "/opt/conda/lib/python3.7/site-packages/ipykernel_launcher.py:19: RuntimeWarning: overflow encountered in exp\n",
      "/opt/conda/lib/python3.7/site-packages/ipykernel_launcher.py:351: RuntimeWarning: divide by zero encountered in log\n",
      "/opt/conda/lib/python3.7/site-packages/ipykernel_launcher.py:351: RuntimeWarning: invalid value encountered in multiply\n"
     ]
    },
    {
     "name": "stdout",
     "output_type": "stream",
     "text": [
      "Cost after iteration 1000: inf\n",
      "Cost after iteration 2000: inf\n",
      "Cost after iteration 3000: 1.5472444725893013\n",
      "Cost after iteration 4000: 1.475752547346623\n",
      "Cost after iteration 5000: inf\n",
      "Cost after iteration 6000: inf\n",
      "Cost after iteration 7000: inf\n",
      "Cost after iteration 8000: 0.5111006650478158\n",
      "Cost after iteration 9000: 0.4853945650710885\n",
      "Cost after iteration 10000: 0.48674888217449186\n",
      "Cost after iteration 11000: 0.4500887898764908\n",
      "Cost after iteration 12000: 0.4936445641523502\n",
      "Cost after iteration 13000: 0.43804184106752503\n",
      "Cost after iteration 14000: 0.43498891002327533\n"
     ]
    },
    {
     "data": {
      "image/png": "[encoded data removed]",
      "text/plain": [
       "<Figure size 432x288 with 1 Axes>"
      ]
     },
     "metadata": {
      "needs_background": "light"
     },
     "output_type": "display_data"
    },
    {
     "name": "stdout",
     "output_type": "stream",
     "text": [
      "On the train set:\n",
      "Accuracy: 0.7536764705882353\n",
      "On the test set:\n",
      "Accuracy: 0.7741935483870968\n"
     ]
    }
   ],
   "source": [
    "parameters = model(train_X, train_Y, initialization = \"random\")\n",
    "print (\"On the train set:\")\n",
    "predictions_train = predict(train_X, train_Y, parameters)\n",
    "print (\"On the test set:\")\n",
    "predictions_test = predict(test_X, test_Y, parameters)"
   ]
  },
  {
   "cell_type": "markdown",
   "execution_count": null,
   "metadata": {
    "papermill": {
     "duration": 0.029379,
     "end_time": "2020-08-28T06:19:01.856740",
     "exception": false,
     "start_time": "2020-08-28T06:19:01.827361",
     "status": "completed"
    },
    "tags": []
   },
   "source": [
    "He initialization"
   ]
  },
  {
   "cell_type": "code",
   "execution_count": 19,
   "metadata": {
    "execution": {
     "iopub.execute_input": "2020-08-28T06:19:01.923413Z",
     "iopub.status.busy": "2020-08-28T06:19:01.922544Z",
     "iopub.status.idle": "2020-08-28T06:19:01.926366Z",
     "shell.execute_reply": "2020-08-28T06:19:01.925753Z"
    },
    "papermill": {
     "duration": 0.042337,
     "end_time": "2020-08-28T06:19:01.926497",
     "exception": false,
     "start_time": "2020-08-28T06:19:01.884160",
     "status": "completed"
    },
    "tags": []
   },
   "outputs": [],
   "source": [
    "# GRADED FUNCTION: initialize_parameters_he\n",
    "\n",
    "def initialize_parameters_he(layers_dims):\n",
    "    \"\"\"\n",
    "    Arguments:\n",
    "    layer_dims -- python array (list) containing the size of each layer.\n",
    "    \n",
    "    Returns:\n",
    "    parameters -- python dictionary containing your parameters \"W1\", \"b1\", ..., \"WL\", \"bL\":\n",
    "                    W1 -- weight matrix of shape (layers_dims[1], layers_dims[0])\n",
    "                    b1 -- bias vector of shape (layers_dims[1], 1)\n",
    "                    ...\n",
    "                    WL -- weight matrix of shape (layers_dims[L], layers_dims[L-1])\n",
    "                    bL -- bias vector of shape (layers_dims[L], 1)\n",
    "    \"\"\"\n",
    "    \n",
    "    np.random.seed(3)\n",
    "    parameters = {}\n",
    "    L = len(layers_dims) - 1 # integer representing the number of layers\n",
    "     \n",
    "    for l in range(1, L + 1):\n",
    "        ### START CODE HERE ### (≈ 2 lines of code)\n",
    "        parameters['W' + str(l)] = np.random.randn(layers_dims[l], layers_dims[l - 1]) * np.sqrt(2 / layers_dims[l - 1])\n",
    "        parameters['b' + str(l)] = np.zeros((layers_dims[l], 1))\n",
    "        ### END CODE HERE ###\n",
    "        \n",
    "    return parameters"
   ]
  },
  {
   "cell_type": "code",
   "execution_count": 20,
   "metadata": {
    "execution": {
     "iopub.execute_input": "2020-08-28T06:19:01.991027Z",
     "iopub.status.busy": "2020-08-28T06:19:01.990095Z",
     "iopub.status.idle": "2020-08-28T06:19:01.996490Z",
     "shell.execute_reply": "2020-08-28T06:19:01.997049Z"
    },
    "papermill": {
     "duration": 0.043463,
     "end_time": "2020-08-28T06:19:01.997246",
     "exception": false,
     "start_time": "2020-08-28T06:19:01.953783",
     "status": "completed"
    },
    "tags": []
   },
   "outputs": [
    {
     "name": "stdout",
     "output_type": "stream",
     "text": [
      "W1 = [[ 1.78862847  0.43650985]\n",
      " [ 0.09649747 -1.8634927 ]\n",
      " [-0.2773882  -0.35475898]\n",
      " [-0.08274148 -0.62700068]]\n",
      "b1 = [[0.]\n",
      " [0.]\n",
      " [0.]\n",
      " [0.]]\n",
      "W2 = [[-0.03098412 -0.33744411 -0.92904268  0.62552248]]\n",
      "b2 = [[0.]]\n"
     ]
    }
   ],
   "source": [
    "parameters = initialize_parameters_he([2, 4, 1])\n",
    "print(\"W1 = \" + str(parameters[\"W1\"]))\n",
    "print(\"b1 = \" + str(parameters[\"b1\"]))\n",
    "print(\"W2 = \" + str(parameters[\"W2\"]))\n",
    "print(\"b2 = \" + str(parameters[\"b2\"]))"
   ]
  },
  {
   "cell_type": "code",
   "execution_count": 21,
   "metadata": {
    "execution": {
     "iopub.execute_input": "2020-08-28T06:19:02.063277Z",
     "iopub.status.busy": "2020-08-28T06:19:02.062472Z",
     "iopub.status.idle": "2020-08-28T06:19:07.047566Z",
     "shell.execute_reply": "2020-08-28T06:19:07.048161Z"
    },
    "papermill": {
     "duration": 5.021038,
     "end_time": "2020-08-28T06:19:07.048335",
     "exception": false,
     "start_time": "2020-08-28T06:19:02.027297",
     "status": "completed"
    },
    "tags": []
   },
   "outputs": [
    {
     "name": "stdout",
     "output_type": "stream",
     "text": [
      "Cost after iteration 0: 0.9003239338874417\n",
      "Cost after iteration 1000: 0.37566391043672137\n",
      "Cost after iteration 2000: 0.3027859527158913\n",
      "Cost after iteration 3000: 0.26686189055468845\n",
      "Cost after iteration 4000: 0.23968046713743388\n",
      "Cost after iteration 5000: 0.21336779026237038\n",
      "Cost after iteration 6000: 0.18859924977000547\n",
      "Cost after iteration 7000: 0.1643204860803784\n",
      "Cost after iteration 8000: 0.1399707083903498\n",
      "Cost after iteration 9000: 0.11732353437083258\n",
      "Cost after iteration 10000: 0.09936632421122903\n",
      "Cost after iteration 11000: 0.08594510105275084\n",
      "Cost after iteration 12000: 0.0743312008859056\n",
      "Cost after iteration 13000: 0.06617139866040038\n",
      "Cost after iteration 14000: 0.058675310715540364\n"
     ]
    },
    {
     "data": {
      "image/png": "[encoded data removed]",
      "text/plain": [
       "<Figure size 432x288 with 1 Axes>"
      ]
     },
     "metadata": {
      "needs_background": "light"
     },
     "output_type": "display_data"
    },
    {
     "name": "stdout",
     "output_type": "stream",
     "text": [
      "On the train set:\n",
      "Accuracy: 0.9779411764705882\n",
      "On the test set:\n",
      "Accuracy: 0.8064516129032258\n"
     ]
    }
   ],
   "source": [
    "parameters = model(train_X, train_Y, initialization = \"he\")\n",
    "print (\"On the train set:\")\n",
    "predictions_train = predict(train_X, train_Y, parameters)\n",
    "print (\"On the test set:\")\n",
    "predictions_test = predict(test_X, test_Y, parameters)"
   ]
  },
  {
   "cell_type": "markdown",
   "execution_count": null,
   "metadata": {
    "papermill": {
     "duration": 0.02956,
     "end_time": "2020-08-28T06:19:07.107317",
     "exception": false,
     "start_time": "2020-08-28T06:19:07.077757",
     "status": "completed"
    },
    "tags": []
   },
   "source": [
    "**Train accuracy of the different initializations**\n",
    "\n",
    "**Zero initialization:**\n",
    "Accuracy: 0.5330882352941176\n",
    "\n",
    "**Random Initialization :**\n",
    "Accuracy: 0.7536764705882353\n",
    "\n",
    "**He/Xavier Initialization:**\n",
    "Accuracy: 0.9779411764705882\n"
   ]
  },
  {
   "cell_type": "code",
   "execution_count": 22,
   "metadata": {
    "execution": {
     "iopub.execute_input": "2020-08-28T06:19:07.186034Z",
     "iopub.status.busy": "2020-08-28T06:19:07.174653Z",
     "iopub.status.idle": "2020-08-28T06:19:07.189709Z",
     "shell.execute_reply": "2020-08-28T06:19:07.189067Z"
    },
    "papermill": {
     "duration": 0.053345,
     "end_time": "2020-08-28T06:19:07.189848",
     "exception": false,
     "start_time": "2020-08-28T06:19:07.136503",
     "status": "completed"
    },
    "tags": []
   },
   "outputs": [],
   "source": [
    "# 2nd part\n",
    "def model(X, Y, learning_rate = 0.3, num_iterations = 30000, print_cost = True, lambd = 0, keep_prob = 1):\n",
    "    \"\"\"\n",
    "    Implements a three-layer neural network: LINEAR->RELU->LINEAR->RELU->LINEAR->SIGMOID.\n",
    "    \n",
    "    Arguments:\n",
    "    X -- input data, of shape (input size, number of examples)\n",
    "    Y -- true \"label\" vector (1 for blue dot / 0 for red dot), of shape (output size, number of examples)\n",
    "    learning_rate -- learning rate of the optimization\n",
    "    num_iterations -- number of iterations of the optimization loop\n",
    "    print_cost -- If True, print the cost every 10000 iterations\n",
    "    lambd -- regularization hyperparameter, scalar\n",
    "    keep_prob - probability of keeping a neuron active during drop-out, scalar.\n",
    "    \n",
    "    Returns:\n",
    "    parameters -- parameters learned by the model. They can then be used to predict.\n",
    "    \"\"\"\n",
    "        \n",
    "    grads = {}\n",
    "    costs = []                            # to keep track of the cost\n",
    "    m = X.shape[1]                        # number of examples\n",
    "    layers_dims = [X.shape[0], 20, 3, 1]\n",
    "    \n",
    "    # Initialize parameters dictionary.\n",
    "    parameters = initialize_parameters_he(layers_dims)\n",
    "\n",
    "    # Loop (gradient descent)\n",
    "\n",
    "    for i in range(0, num_iterations):\n",
    "\n",
    "        # Forward propagation: LINEAR -> RELU -> LINEAR -> RELU -> LINEAR -> SIGMOID.\n",
    "        if keep_prob == 1:\n",
    "            a3, cache = forward_propagation(X, parameters)\n",
    "        elif keep_prob < 1:\n",
    "            a3, cache = forward_propagation_with_dropout(X, parameters, keep_prob)\n",
    "        \n",
    "        # Cost function\n",
    "        if lambd == 0:\n",
    "            cost = compute_cost(a3, Y)\n",
    "        else:\n",
    "            cost = compute_cost_with_regularization(a3, Y, parameters, lambd)\n",
    "            \n",
    "        # Backward propagation.\n",
    "        assert(lambd==0 or keep_prob==1)    # it is possible to use both L2 regularization and dropout, \n",
    "                                            # but this assignment will only explore one at a time\n",
    "        if lambd == 0 and keep_prob == 1:\n",
    "            grads = backward_propagation(X, Y, cache)\n",
    "        elif lambd != 0:\n",
    "            grads = backward_propagation_with_regularization(X, Y, cache, lambd)\n",
    "        elif keep_prob < 1:\n",
    "            grads = backward_propagation_with_dropout(X, Y, cache, keep_prob)\n",
    "        \n",
    "        # Update parameters.\n",
    "        parameters = update_parameters(parameters, grads, learning_rate)\n",
    "        \n",
    "        # Print the loss every 10000 iterations\n",
    "        if print_cost and i % 10000 == 0:\n",
    "            print(\"Cost after iteration {}: {}\".format(i, cost))\n",
    "        if print_cost and i % 1000 == 0:\n",
    "            costs.append(cost)\n",
    "    \n",
    "    # plot the cost\n",
    "    plt.plot(costs)\n",
    "    plt.ylabel('cost')\n",
    "    plt.xlabel('iterations (x1,000)')\n",
    "    plt.title(\"Learning rate =\" + str(learning_rate))\n",
    "    plt.show()\n",
    "    \n",
    "    return parameters"
   ]
  },
  {
   "cell_type": "code",
   "execution_count": 23,
   "metadata": {
    "execution": {
     "iopub.execute_input": "2020-08-28T06:19:07.254466Z",
     "iopub.status.busy": "2020-08-28T06:19:07.253588Z",
     "iopub.status.idle": "2020-08-28T06:19:19.136177Z",
     "shell.execute_reply": "2020-08-28T06:19:19.136822Z"
    },
    "papermill": {
     "duration": 11.918269,
     "end_time": "2020-08-28T06:19:19.137043",
     "exception": false,
     "start_time": "2020-08-28T06:19:07.218774",
     "status": "completed"
    },
    "tags": []
   },
   "outputs": [
    {
     "name": "stdout",
     "output_type": "stream",
     "text": [
      "Cost after iteration 0: 1.8738016988098418\n"
     ]
    },
    {
     "name": "stderr",
     "output_type": "stream",
     "text": [
      "/opt/conda/lib/python3.7/site-packages/ipykernel_launcher.py:236: RuntimeWarning: divide by zero encountered in log\n",
      "/opt/conda/lib/python3.7/site-packages/ipykernel_launcher.py:236: RuntimeWarning: invalid value encountered in multiply\n"
     ]
    },
    {
     "name": "stdout",
     "output_type": "stream",
     "text": [
      "Cost after iteration 10000: 0.015480810301946635\n",
      "Cost after iteration 20000: 0.015429285186025495\n"
     ]
    },
    {
     "data": {
      "image/png": "[encoded data removed]",
      "text/plain": [
       "<Figure size 432x288 with 1 Axes>"
      ]
     },
     "metadata": {
      "needs_background": "light"
     },
     "output_type": "display_data"
    },
    {
     "name": "stdout",
     "output_type": "stream",
     "text": [
      "On the training set:\n",
      "Accuracy: 0.9926470588235294\n",
      "On the test set:\n",
      "Accuracy: 0.8387096774193549\n"
     ]
    }
   ],
   "source": [
    "parameters = model(train_X, train_Y)\n",
    "print (\"On the training set:\")\n",
    "predictions_train = predict(train_X, train_Y, parameters)\n",
    "print (\"On the test set:\")\n",
    "predictions_test = predict(test_X, test_Y, parameters)"
   ]
  },
  {
   "cell_type": "markdown",
   "execution_count": null,
   "metadata": {
    "papermill": {
     "duration": 0.028995,
     "end_time": "2020-08-28T06:19:19.198346",
     "exception": false,
     "start_time": "2020-08-28T06:19:19.169351",
     "status": "completed"
    },
    "tags": []
   },
   "source": [
    "L2 regularization"
   ]
  },
  {
   "cell_type": "code",
   "execution_count": 24,
   "metadata": {
    "execution": {
     "iopub.execute_input": "2020-08-28T06:19:19.269197Z",
     "iopub.status.busy": "2020-08-28T06:19:19.268128Z",
     "iopub.status.idle": "2020-08-28T06:19:19.271534Z",
     "shell.execute_reply": "2020-08-28T06:19:19.270879Z"
    },
    "papermill": {
     "duration": 0.044104,
     "end_time": "2020-08-28T06:19:19.271673",
     "exception": false,
     "start_time": "2020-08-28T06:19:19.227569",
     "status": "completed"
    },
    "tags": []
   },
   "outputs": [],
   "source": [
    "# GRADED FUNCTION: compute_cost_with_regularization\n",
    "\n",
    "def compute_cost_with_regularization(A3, Y, parameters, lambd):\n",
    "    \"\"\"\n",
    "    Implement the cost function with L2 regularization. See formula (2) above.\n",
    "    \n",
    "    Arguments:\n",
    "    A3 -- post-activation, output of forward propagation, of shape (output size, number of examples)\n",
    "    Y -- \"true\" labels vector, of shape (output size, number of examples)\n",
    "    parameters -- python dictionary containing parameters of the model\n",
    "    \n",
    "    Returns:\n",
    "    cost - value of the regularized loss function (formula (2))\n",
    "    \"\"\"\n",
    "    m = Y.shape[1]\n",
    "    W1 = parameters[\"W1\"]\n",
    "    W2 = parameters[\"W2\"]\n",
    "    W3 = parameters[\"W3\"]\n",
    "    \n",
    "    cross_entropy_cost = compute_cost(A3, Y) # This gives you the cross-entropy part of the cost\n",
    "    \n",
    "    ### START CODE HERE ### (approx. 1 line)\n",
    "    L2_regularization_cost = lambd * (np.sum(np.square(W1)) + np.sum(np.square(W2)) + np.sum(np.square(W3))) / (2 * m)\n",
    "    ### END CO\n",
    "    ### END CODER HERE ###\n",
    "    \n",
    "    cost = cross_entropy_cost + L2_regularization_cost\n",
    "    \n",
    "    return cost"
   ]
  },
  {
   "cell_type": "code",
   "execution_count": 25,
   "metadata": {
    "execution": {
     "iopub.execute_input": "2020-08-28T06:19:19.336715Z",
     "iopub.status.busy": "2020-08-28T06:19:19.335856Z",
     "iopub.status.idle": "2020-08-28T06:19:19.340012Z",
     "shell.execute_reply": "2020-08-28T06:19:19.339351Z"
    },
    "papermill": {
     "duration": 0.038913,
     "end_time": "2020-08-28T06:19:19.340145",
     "exception": false,
     "start_time": "2020-08-28T06:19:19.301232",
     "status": "completed"
    },
    "tags": []
   },
   "outputs": [],
   "source": [
    "A3,c=forward_propagation(train_X,parameters)"
   ]
  },
  {
   "cell_type": "code",
   "execution_count": 26,
   "metadata": {
    "execution": {
     "iopub.execute_input": "2020-08-28T06:19:19.424122Z",
     "iopub.status.busy": "2020-08-28T06:19:19.423246Z",
     "iopub.status.idle": "2020-08-28T06:19:19.427290Z",
     "shell.execute_reply": "2020-08-28T06:19:19.426452Z"
    },
    "papermill": {
     "duration": 0.055916,
     "end_time": "2020-08-28T06:19:19.427429",
     "exception": false,
     "start_time": "2020-08-28T06:19:19.371513",
     "status": "completed"
    },
    "tags": []
   },
   "outputs": [],
   "source": [
    "\n",
    "def backward_propagation_with_regularization(X, Y, cache, lambd):\n",
    "    \"\"\"\n",
    "    Implements the backward propagation of our baseline model to which we added an L2 regularization.\n",
    "    \n",
    "    Arguments:\n",
    "    X -- input dataset, of shape (input size, number of examples)\n",
    "    Y -- \"true\" labels vector, of shape (output size, number of examples)\n",
    "    cache -- cache output from forward_propagation()\n",
    "    lambd -- regularization hyperparameter, scalar\n",
    "    \n",
    "    Returns:\n",
    "    gradients -- A dictionary with the gradients with respect to each parameter, activation and pre-activation variables\n",
    "    \"\"\"\n",
    "    \n",
    "    m = X.shape[1]\n",
    "    (Z1, A1, W1, b1, Z2, A2, W2, b2, Z3, A3, W3, b3) = cache\n",
    "    \n",
    "    dZ3 = A3 - Y\n",
    "    \n",
    "    ### START CODE HERE ### (approx. 1 line)\n",
    "    dW3 = 1. / m * np.dot(dZ3, A2.T) + (lambd * W3) / m\n",
    "    ### END CODE HERE ###\n",
    "    db3 = 1. / m * np.sum(dZ3, axis=1, keepdims=True)\n",
    "    \n",
    "    dA2 = np.dot(W3.T, dZ3)\n",
    "    dZ2 = np.multiply(dA2, np.int64(A2 > 0))\n",
    "    ### START CODE HERE ### (approx. 1 line)\n",
    "    dW2 = 1. / m * np.dot(dZ2, A1.T) + (lambd * W2) / m\n",
    "    ### END CODE HERE ###\n",
    "    db2 = 1. / m * np.sum(dZ2, axis=1, keepdims=True)\n",
    "    \n",
    "    dA1 = np.dot(W2.T, dZ2)\n",
    "    dZ1 = np.multiply(dA1, np.int64(A1 > 0))\n",
    "    ### START CODE HERE ### (approx. 1 line)\n",
    "    dW1 = 1. / m * np.dot(dZ1, X.T) + (lambd * W1) / m\n",
    "    ### END CODE HERE ###\n",
    "    db1 = 1. / m * np.sum(dZ1, axis=1, keepdims=True)\n",
    "    \n",
    "    gradients = {\"dZ3\": dZ3, \"dW3\": dW3, \"db3\": db3, \"dA2\": dA2,\n",
    "                 \"dZ2\": dZ2, \"dW2\": dW2, \"db2\": db2, \"dA1\": dA1, \n",
    "                 \"dZ1\": dZ1, \"dW1\": dW1, \"db1\": db1}\n",
    "    \n",
    "    return gradients"
   ]
  },
  {
   "cell_type": "code",
   "execution_count": 27,
   "metadata": {
    "execution": {
     "iopub.execute_input": "2020-08-28T06:19:19.494570Z",
     "iopub.status.busy": "2020-08-28T06:19:19.493662Z",
     "iopub.status.idle": "2020-08-28T06:19:19.506726Z",
     "shell.execute_reply": "2020-08-28T06:19:19.505955Z"
    },
    "papermill": {
     "duration": 0.049685,
     "end_time": "2020-08-28T06:19:19.506874",
     "exception": false,
     "start_time": "2020-08-28T06:19:19.457189",
     "status": "completed"
    },
    "tags": []
   },
   "outputs": [
    {
     "name": "stdout",
     "output_type": "stream",
     "text": [
      "dW1 = \n",
      "[[ 2.50541206e-04  3.21125224e-04 -1.04130417e-03 -1.51220218e-03\n",
      "  -1.31332377e-03 -1.72957227e-03 -9.43376032e-04  2.18753564e-04\n",
      "  -6.99504347e-04  1.22205856e-04 -1.93996938e-03  1.24803674e-03\n",
      "   1.13580402e-03]\n",
      " [ 2.81689348e-03  4.50254516e-04 -5.04776804e-04 -2.39934710e-05\n",
      "  -3.21705721e-03 -3.41048530e-04 -8.53630635e-04 -1.11559568e-03\n",
      "  -8.92953449e-04  1.07329911e-03  7.08032681e-04 -3.01264044e-03\n",
      "  -4.33586718e-04]\n",
      " [ 4.28736125e-04  8.03080758e-04 -1.87805466e-03  4.74043177e-04\n",
      "   2.56536711e-04  6.41608979e-04 -2.42692335e-03  6.93326230e-04\n",
      "  -1.29419546e-03 -2.35597390e-03 -9.70615910e-04 -1.01947571e-03\n",
      "   1.43578855e-03]\n",
      " [-1.23101547e-03 -9.82001710e-04  2.13666124e-03 -7.35555526e-04\n",
      "  -2.73846646e-03  2.53472551e-04 -4.05100122e-04 -7.67336910e-04\n",
      "   1.15091530e-04 -1.05750704e-03  6.28418868e-04  1.25224935e-03\n",
      "   1.08323198e-03]\n",
      " [ 2.25073214e-04  1.92208340e-03  2.55412659e-03 -1.66064316e-03\n",
      "   8.77518432e-04 -1.02123076e-03 -3.26855860e-04 -3.38448410e-03\n",
      "   2.29797422e-04  1.88105087e-03  1.24330530e-03  6.33086876e-04\n",
      "  -2.60159840e-03]\n",
      " [-2.90249792e-03 -1.17208101e-03 -6.73412091e-04  4.79419514e-04\n",
      "   3.72749833e-04 -4.23404030e-04  2.96553766e-03 -1.81244984e-03\n",
      "   2.04152010e-03  1.13416760e-03 -1.02996502e-03  2.18231183e-05\n",
      "   2.49302646e-03]\n",
      " [-1.03033084e-03  3.23473187e-03 -2.79222034e-03 -8.10149544e-04\n",
      "   1.17722614e-03 -1.39813957e-03 -2.98807732e-04  8.96976813e-04\n",
      "   4.41887644e-04 -1.79355283e-03 -3.38489361e-03 -2.26847389e-03\n",
      "  -6.92827334e-04]\n",
      " [-1.56174280e-03 -1.60532844e-03  1.44472804e-03 -1.09222357e-03\n",
      "   1.18739155e-03  2.39801421e-04 -1.96664371e-03 -1.34562909e-03\n",
      "   2.36439375e-03  7.08132175e-04 -1.38600001e-03 -1.03449313e-03\n",
      "   1.64145301e-04]\n",
      " [ 1.55070300e-03 -2.99373221e-04 -1.22701202e-03 -7.10472825e-04\n",
      "   5.43020761e-04  4.43259671e-04 -1.03380594e-03  9.49887477e-04\n",
      "   6.07198335e-04  1.65251046e-03 -8.63634847e-04 -1.55812352e-03\n",
      "   1.13516080e-03]\n",
      " [-1.92496952e-03 -2.56636308e-03  2.01540860e-03 -6.50877221e-05\n",
      "   1.02395099e-03 -2.23136774e-03 -1.20225418e-03 -6.37511717e-05\n",
      "   1.17195865e-03  7.04763712e-04  1.28028285e-03 -1.88017463e-04\n",
      "   8.00102364e-04]\n",
      " [-3.79606256e-04  2.28730685e-03  1.62640322e-03 -2.11840431e-04\n",
      "   2.26891619e-04  8.29391606e-04  1.83252338e-04  1.48426150e-03\n",
      "  -2.82928070e-04 -2.17245354e-03 -1.02302747e-03 -5.09211915e-04\n",
      "  -3.84599577e-04]\n",
      " [ 1.92580262e-03 -8.81908608e-04  8.38173296e-04  1.32909146e-04\n",
      "  -1.40617056e-03 -4.10374054e-04  1.08066208e-03 -4.38609683e-04\n",
      "   2.40707532e-03 -1.26820122e-03  3.85719308e-04  8.81959823e-04\n",
      "   4.64088403e-04]\n",
      " [-2.72003908e-04 -1.47717452e-03 -1.11926430e-03  6.95914707e-04\n",
      "  -6.59895559e-04  1.82215207e-03  4.52579521e-04 -3.13325515e-04\n",
      "   3.43337617e-03 -3.49977079e-04 -1.70852367e-03  1.54876698e-03\n",
      "  -1.15089834e-03]\n",
      " [-4.49669550e-04  1.80768273e-03 -2.10624280e-03 -1.98479758e-04\n",
      "  -6.80663070e-04 -8.56393775e-04 -1.89045218e-03 -1.10710970e-03\n",
      "  -8.14775215e-04  1.14693538e-03  5.12188762e-04  9.50534780e-04\n",
      "   1.36889787e-03]\n",
      " [-1.61436822e-03 -1.03596786e-05 -1.03043070e-03 -1.00644165e-03\n",
      "  -2.14543304e-03  7.86528981e-04  7.48176463e-04 -7.98314694e-05\n",
      "  -5.88066529e-04 -2.50159960e-03 -8.28561476e-04  1.42448946e-03\n",
      "  -3.69289262e-04]\n",
      " [-6.87441323e-04  1.92308614e-03  1.09698633e-03 -3.01215148e-04\n",
      "   9.98833741e-04  2.01902909e-04  4.20555565e-04 -1.29845290e-03\n",
      "   1.87261994e-04  2.83440465e-04  1.54251658e-03  3.11663786e-03\n",
      "   7.78388142e-04]\n",
      " [ 1.71855477e-04  1.64318855e-04  9.16430462e-05  1.95035233e-03\n",
      "  -1.32615242e-03  2.14805648e-03  3.58195049e-04  1.45758646e-03\n",
      "   2.89344871e-04  5.09670067e-05  1.27476762e-03 -5.56409878e-04\n",
      "  -1.19955446e-03]\n",
      " [ 5.33397427e-04  5.90908406e-04  2.26091893e-03 -4.80597828e-04\n",
      "   2.63003848e-03 -3.14325753e-03 -1.08587469e-04  3.12824133e-04\n",
      "  -6.53477936e-04  1.97304931e-03  4.26476917e-04 -7.83794828e-04\n",
      "   9.97437898e-04]\n",
      " [ 3.09890132e-03  4.08783743e-04  5.79017194e-04 -2.68465925e-04\n",
      "  -3.82607504e-04 -9.84548785e-04 -1.15330837e-03  3.01769918e-03\n",
      "   1.37729337e-03  7.09780633e-04  1.82399408e-03  8.12563686e-04\n",
      "  -2.04641109e-04]\n",
      " [ 1.41297709e-03  8.54818877e-04  3.47785044e-05  2.11488604e-03\n",
      "  -1.88800918e-03 -1.20159230e-03 -9.89462011e-04 -1.99768183e-03\n",
      "   1.03893379e-03 -2.79780736e-04 -7.48215822e-04  2.40355071e-03\n",
      "   1.08680130e-03]]\n",
      "dW2 = \n",
      "[[-4.33209948e-04  2.59626557e-03 -8.88667617e-04  1.90240911e-03\n",
      "  -1.38382644e-03  1.79576992e-04 -2.23813090e-03 -8.90579398e-05\n",
      "  -2.24110007e-04 -7.98603996e-04  1.39514181e-03 -5.65387319e-04\n",
      "  -1.43813172e-03 -9.32278376e-04  1.76743091e-03  1.44616312e-03\n",
      "   1.02004514e-03 -3.03579851e-03 -4.99131047e-04 -1.07880173e-03]\n",
      " [ 1.14917981e-03 -2.15057646e-03  2.49924558e-03 -3.92880697e-04\n",
      "   3.42216409e-03  5.05761729e-03 -1.27497215e-03 -1.49348092e-03\n",
      "   2.17833857e-03 -6.45928852e-04  1.77179266e-03 -2.90925647e-03\n",
      "   1.42136843e-03  1.96252490e-03  1.05536509e-03 -2.93392847e-03\n",
      "   1.06838906e-03 -1.26990940e-03  2.55584778e-03  3.94904463e-04]\n",
      " [-2.19861470e-03  3.10939409e-03 -6.07186435e-04  1.93755900e-03\n",
      "  -2.72136628e-03 -2.88724145e-03  4.52183460e-03  3.56654338e-03\n",
      "  -2.21184809e-03  4.61167263e-03  2.26820491e-03  1.60520257e-03\n",
      "  -3.20079263e-03 -2.11192368e-03 -2.56713243e-03 -2.48237883e-03\n",
      "   2.08285769e-03 -2.75608550e-03  7.64708777e-04 -1.71101466e-03]]\n",
      "dW3 = \n",
      "[[ 0.00655848 -0.00884022  0.0116498 ]]\n"
     ]
    }
   ],
   "source": [
    "grads = backward_propagation_with_regularization(train_X, train_Y, c, lambd = 0.7)\n",
    "print (\"dW1 = \\n\"+ str(grads[\"dW1\"]))\n",
    "print (\"dW2 = \\n\"+ str(grads[\"dW2\"]))\n",
    "print (\"dW3 = \\n\"+ str(grads[\"dW3\"]))"
   ]
  },
  {
   "cell_type": "code",
   "execution_count": 28,
   "metadata": {
    "execution": {
     "iopub.execute_input": "2020-08-28T06:19:19.576786Z",
     "iopub.status.busy": "2020-08-28T06:19:19.575720Z",
     "iopub.status.idle": "2020-08-28T06:19:32.440317Z",
     "shell.execute_reply": "2020-08-28T06:19:32.440894Z"
    },
    "papermill": {
     "duration": 12.901942,
     "end_time": "2020-08-28T06:19:32.441113",
     "exception": false,
     "start_time": "2020-08-28T06:19:19.539171",
     "status": "completed"
    },
    "tags": []
   },
   "outputs": [
    {
     "name": "stdout",
     "output_type": "stream",
     "text": [
      "Cost after iteration 0: 1.9399223693370218\n",
      "Cost after iteration 10000: 0.07448199394075507\n",
      "Cost after iteration 20000: 0.07382010868412016\n"
     ]
    },
    {
     "data": {
      "image/png": "[encoded data removed]",
      "text/plain": [
       "<Figure size 432x288 with 1 Axes>"
      ]
     },
     "metadata": {
      "needs_background": "light"
     },
     "output_type": "display_data"
    },
    {
     "name": "stdout",
     "output_type": "stream",
     "text": [
      "On the train set:\n",
      "Accuracy: 1.0\n",
      "On the test set:\n",
      "Accuracy: 0.8387096774193549\n"
     ]
    }
   ],
   "source": [
    "parameters = model(train_X, train_Y, lambd = 0.7)\n",
    "print (\"On the train set:\")\n",
    "predictions_train = predict(train_X, train_Y, parameters)\n",
    "print (\"On the test set:\")\n",
    "predictions_test = predict(test_X, test_Y, parameters)"
   ]
  },
  {
   "cell_type": "markdown",
   "execution_count": null,
   "metadata": {
    "papermill": {
     "duration": 0.030122,
     "end_time": "2020-08-28T06:19:32.501872",
     "exception": false,
     "start_time": "2020-08-28T06:19:32.471750",
     "status": "completed"
    },
    "tags": []
   },
   "source": [
    "Using Dropout Function"
   ]
  },
  {
   "cell_type": "code",
   "execution_count": 29,
   "metadata": {
    "execution": {
     "iopub.execute_input": "2020-08-28T06:19:32.581907Z",
     "iopub.status.busy": "2020-08-28T06:19:32.577346Z",
     "iopub.status.idle": "2020-08-28T06:19:32.584933Z",
     "shell.execute_reply": "2020-08-28T06:19:32.585586Z"
    },
    "papermill": {
     "duration": 0.053308,
     "end_time": "2020-08-28T06:19:32.585781",
     "exception": false,
     "start_time": "2020-08-28T06:19:32.532473",
     "status": "completed"
    },
    "tags": []
   },
   "outputs": [],
   "source": [
    "# GRADED FUNCTION: forward_propagation_with_dropout\n",
    "\n",
    "def forward_propagation_with_dropout(X, parameters, keep_prob=0.5):\n",
    "    \"\"\"\n",
    "    Implements the forward propagation: LINEAR -> RELU + DROPOUT -> LINEAR -> RELU + DROPOUT -> LINEAR -> SIGMOID.\n",
    "    \n",
    "    Arguments:\n",
    "    X -- input dataset, of shape (2, number of examples)\n",
    "    parameters -- python dictionary containing your parameters \"W1\", \"b1\", \"W2\", \"b2\", \"W3\", \"b3\":\n",
    "                    W1 -- weight matrix of shape (20, 2)\n",
    "                    b1 -- bias vector of shape (20, 1)\n",
    "                    W2 -- weight matrix of shape (3, 20)\n",
    "                    b2 -- bias vector of shape (3, 1)\n",
    "                    W3 -- weight matrix of shape (1, 3)\n",
    "                    b3 -- bias vector of shape (1, 1)\n",
    "    keep_prob - probability of keeping a neuron active during drop-out, scalar\n",
    "    \n",
    "    Returns:\n",
    "    A3 -- last activation value, output of the forward propagation, of shape (1,1)\n",
    "    cache -- tuple, information stored for computing the backward propagation\n",
    "    \"\"\"\n",
    "    \n",
    "    np.random.seed(1)\n",
    "    \n",
    "    # retrieve parameters\n",
    "    W1 = parameters[\"W1\"]\n",
    "    b1 = parameters[\"b1\"]\n",
    "    W2 = parameters[\"W2\"]\n",
    "    b2 = parameters[\"b2\"]\n",
    "    W3 = parameters[\"W3\"]\n",
    "    b3 = parameters[\"b3\"]\n",
    "    \n",
    "    # LINEAR -> RELU -> LINEAR -> RELU -> LINEAR -> SIGMOID\n",
    "    Z1 = np.dot(W1, X) + b1\n",
    "    A1 = relu(Z1)\n",
    "    ### START CODE HERE ### (approx. 4 lines)         # Steps 1-4 below correspond to the Steps 1-4 described above. \n",
    "    D1 = np.random.rand(A1.shape[0], A1.shape[1])     # Step 1: initialize matrix D1 = np.random.rand(..., ...)\n",
    "    D1 = D1 < keep_prob                            # Step 2: convert entries of D1 to 0 or 1 (using keep_prob as the threshold)\n",
    "    A1 = A1 * D1                                      # Step 3: shut down some neurons of A1\n",
    "    A1 = A1 / keep_prob                               # Step 4: scale the value of neurons that haven't been shut down\n",
    "    ### END CODE HERE ###\n",
    "    Z2 = np.dot(W2, A1) + b2\n",
    "    A2 = relu(Z2)\n",
    "    ### START CODE HERE ### (approx. 4 lines)\n",
    "    D2 = np.random.rand(A2.shape[0], A2.shape[1])     # Step 1: initialize matrix D2 = np.random.rand(..., ...)\n",
    "    D2 = D2 < keep_prob                           # Step 2: convert entries of D2 to 0 or 1 (using keep_prob as the threshold)                           \n",
    "    A2 = A2 * D2                                      # Step 3: shut down some neurons of A2\n",
    "    A2 = A2 / keep_prob                               # Step 4: scale the value of neurons that haven't been shut down\n",
    "    ### END CODE HERE ###\n",
    "    Z3 = np.dot(W3, A2) + b3\n",
    "    A3 = sigmoid(Z3)\n",
    "    \n",
    "    cache = (Z1, D1, A1, W1, b1, Z2, D2, A2, W2, b2, Z3, A3, W3, b3)\n",
    "    \n",
    "    return A3, cache"
   ]
  },
  {
   "cell_type": "code",
   "execution_count": 30,
   "metadata": {
    "execution": {
     "iopub.execute_input": "2020-08-28T06:19:32.654263Z",
     "iopub.status.busy": "2020-08-28T06:19:32.653357Z",
     "iopub.status.idle": "2020-08-28T06:19:32.670722Z",
     "shell.execute_reply": "2020-08-28T06:19:32.663162Z"
    },
    "papermill": {
     "duration": 0.054314,
     "end_time": "2020-08-28T06:19:32.670932",
     "exception": false,
     "start_time": "2020-08-28T06:19:32.616618",
     "status": "completed"
    },
    "tags": []
   },
   "outputs": [
    {
     "name": "stdout",
     "output_type": "stream",
     "text": [
      "A3 = [[9.95837261e-01 2.73237735e-01 9.93563590e-01 9.42287206e-01\n",
      "  9.55113615e-01 4.71825677e-03 7.16455732e-06 9.99992739e-01\n",
      "  8.42502167e-01 4.75252054e-10 9.99992976e-01 8.17236683e-01\n",
      "  1.23716380e-01 8.17236683e-01 1.33185623e-01 8.48014111e-03\n",
      "  9.99598957e-01 4.44183027e-09 8.17236683e-01 9.98171638e-01\n",
      "  2.90999033e-10 9.99997555e-01 2.23141247e-05 9.76288246e-01\n",
      "  9.96165591e-01 9.87824891e-01 9.07966151e-06 8.17236683e-01\n",
      "  9.99916635e-01 9.99894353e-01 9.99904656e-01 9.52546801e-01\n",
      "  9.99970152e-01 9.42973002e-01 3.22078373e-09 1.45082886e-05\n",
      "  9.99937944e-01 9.99992564e-01 9.88726098e-01 4.34175232e-11\n",
      "  7.45684536e-08 9.99997477e-01 8.17236683e-01 9.96521556e-01\n",
      "  1.86899529e-05 9.18488858e-01 2.08611846e-07 9.18647947e-01\n",
      "  3.05763931e-09 9.13512109e-05 9.99995326e-01 2.10866573e-07\n",
      "  9.98305792e-01 9.99992973e-01 9.99999958e-01 8.79546347e-01\n",
      "  9.99995204e-01 6.22063887e-03 3.89265254e-02 6.73311583e-12\n",
      "  9.99976592e-01 9.99657183e-01 1.81672803e-02 3.82262283e-08\n",
      "  3.33257710e-01 6.04309944e-02 7.01114163e-01 9.34660251e-01\n",
      "  4.83590397e-11 1.16383055e-08 1.62512509e-01 8.93546237e-01\n",
      "  3.15062815e-03 9.99998705e-01 9.71731782e-01 9.77062922e-01\n",
      "  8.17236683e-01 9.99983980e-01 5.82234772e-08 1.56618793e-10\n",
      "  7.52452245e-04 1.94861105e-02 9.98510135e-01 4.26217657e-09\n",
      "  8.17236683e-01 8.56400222e-01 1.19247514e-07 9.99998397e-01\n",
      "  2.63263314e-13 8.17236683e-01 6.76268150e-04 9.99999570e-01\n",
      "  9.99717229e-01 9.99853232e-01 6.37426410e-10 2.41801622e-06\n",
      "  9.94578080e-01 9.98879636e-01 9.99999795e-01 9.04851850e-01\n",
      "  1.49871470e-01 9.91938750e-01 9.99999888e-01 9.99999828e-01\n",
      "  2.31208456e-03 3.65848655e-06 8.17236683e-01 9.32589357e-01\n",
      "  5.89936242e-01 9.99978786e-01 7.58673980e-03 5.00308319e-06\n",
      "  1.77058453e-02 5.11029519e-05 1.95178099e-08 8.17236683e-01\n",
      "  1.51150630e-01 9.75931739e-07 8.17236683e-01 2.47845412e-05\n",
      "  4.55753689e-05 3.87127405e-04 1.94771853e-06 1.85617276e-09\n",
      "  9.99262904e-01 9.98487676e-01 9.94802827e-04 8.25717976e-01\n",
      "  6.36689149e-11 6.15787022e-03 9.99994468e-01 9.99999701e-01\n",
      "  9.28695657e-01 8.17236683e-01 2.31720258e-01 9.10941246e-01\n",
      "  3.23014916e-04 8.17236683e-01 8.59098469e-01 1.06394659e-01\n",
      "  7.12192745e-08 9.96717917e-01 9.98770005e-01 9.81182939e-02\n",
      "  9.92907925e-01 8.17236683e-01 1.84397586e-07 9.99878292e-01\n",
      "  9.99999963e-01 4.38674040e-05 8.34509268e-01 9.49715844e-01\n",
      "  9.89468538e-01 9.99961335e-01 9.99999994e-01 3.10887421e-09\n",
      "  9.26319343e-10 3.84303674e-05 9.33818934e-01 9.99999999e-01\n",
      "  9.47056802e-01 8.17236683e-01 9.87229156e-01 9.99750951e-01\n",
      "  8.17236683e-01 9.99999892e-01 1.64966780e-03 9.99988299e-01\n",
      "  9.99852514e-01 4.76704058e-09 9.99999952e-01 9.75877932e-01\n",
      "  9.75697799e-01 3.83053958e-02 2.86103910e-02 7.66138190e-01\n",
      "  8.17236683e-01 1.62645513e-02 8.17236683e-01 8.50379071e-01\n",
      "  9.99995422e-01 2.64069269e-02 9.90048534e-07 1.97435470e-16\n",
      "  8.17236683e-01 6.88338919e-01 1.00670956e-05 9.99998725e-01\n",
      "  9.32355879e-01 9.46179742e-01 9.99998102e-01 9.99999306e-01\n",
      "  9.97025386e-01 1.13611112e-01 9.42012501e-01 1.48240578e-08\n",
      "  1.51705447e-09 8.17236683e-01 9.86752700e-01 6.55640194e-03\n",
      "  1.13153050e-02 4.23057533e-05 9.99477323e-01 2.44933547e-12\n",
      "  9.99898965e-01 8.17236683e-01 9.99995026e-01 9.99999688e-01\n",
      "  8.90218979e-01 4.53403110e-01 9.99975804e-01 9.99999702e-01\n",
      "  9.15340999e-01 1.28060805e-09 3.25179317e-06 9.99999229e-01\n",
      "  4.04641704e-04 9.99999964e-01 8.17236683e-01 8.17236683e-01\n",
      "  3.92486826e-09 5.46981548e-07 9.99997006e-01 8.17236683e-01\n",
      "  9.99873530e-01 9.07125992e-01 5.40572636e-01 9.99849540e-01\n",
      "  9.25940102e-01 9.99999360e-01 8.17236683e-01 9.16276938e-01\n",
      "  9.99996510e-01 9.99999523e-01 9.52014652e-05 4.82797037e-13\n",
      "  5.28381307e-09 9.99999914e-01 9.99955249e-01 1.22088835e-05\n",
      "  9.99999740e-01 4.12852287e-01 1.77327123e-15 9.99976214e-01\n",
      "  8.17236683e-01 9.18994972e-01 8.54815687e-06 6.59215562e-05\n",
      "  1.24654150e-05 3.67987492e-02 9.08072062e-01 6.40180858e-05\n",
      "  1.96348502e-01 8.17236683e-01 9.99999833e-01 8.71541944e-01\n",
      "  9.92131200e-01 2.00627453e-02 1.65644416e-01 2.21869006e-04\n",
      "  9.99879642e-01 8.36889186e-01 9.73850887e-01 7.92784926e-01\n",
      "  9.99999052e-01 9.99981806e-01 9.99989785e-01 9.65308022e-01\n",
      "  9.99999975e-01 9.35329875e-01 9.99999792e-01 9.99988492e-01]]\n"
     ]
    }
   ],
   "source": [
    "A3, cache = forward_propagation_with_dropout(train_X, parameters, keep_prob = 0.7)\n",
    "print (\"A3 = \" + str(A3))"
   ]
  },
  {
   "cell_type": "code",
   "execution_count": 31,
   "metadata": {
    "execution": {
     "iopub.execute_input": "2020-08-28T06:19:32.755421Z",
     "iopub.status.busy": "2020-08-28T06:19:32.754548Z",
     "iopub.status.idle": "2020-08-28T06:19:32.758242Z",
     "shell.execute_reply": "2020-08-28T06:19:32.757471Z"
    },
    "papermill": {
     "duration": 0.05535,
     "end_time": "2020-08-28T06:19:32.758370",
     "exception": false,
     "start_time": "2020-08-28T06:19:32.703020",
     "status": "completed"
    },
    "tags": []
   },
   "outputs": [],
   "source": [
    "# GRADED FUNCTION: backward_propagation_with_dropout\n",
    "\n",
    "def backward_propagation_with_dropout(X, Y, cache, keep_prob):\n",
    "    \"\"\"\n",
    "    Implements the backward propagation of our baseline model to which we added dropout.\n",
    "    \n",
    "    Arguments:\n",
    "    X -- input dataset, of shape (2, number of examples)\n",
    "    Y -- \"true\" labels vector, of shape (output size, number of examples)\n",
    "    cache -- cache output from forward_propagation_with_dropout()\n",
    "    keep_prob - probability of keeping a neuron active during drop-out, scalar\n",
    "    \n",
    "    Returns:\n",
    "    gradients -- A dictionary with the gradients with respect to each parameter, activation and pre-activation variables\n",
    "    \"\"\"\n",
    "    \n",
    "    m = X.shape[1]\n",
    "    (Z1, D1, A1, W1, b1, Z2, D2, A2, W2, b2, Z3, A3, W3, b3) = cache\n",
    "    \n",
    "    dZ3 = A3 - Y\n",
    "    dW3 = 1. / m * np.dot(dZ3, A2.T)\n",
    "    db3 = 1. / m * np.sum(dZ3, axis=1, keepdims=True)\n",
    "    dA2 = np.dot(W3.T, dZ3)\n",
    "    ### START CODE HERE ### (≈ 2 lines of code)\n",
    "    dA2 = dA2 * D2              # Step 1: Apply mask D2 to shut down the same neurons as during the forward propagation\n",
    "    dA2 = dA2 / keep_prob              # Step 2: Scale the value of neurons that haven't been shut down\n",
    "    ### END CODE HERE ###\n",
    "    dZ2 = np.multiply(dA2, np.int64(A2 > 0))\n",
    "    dW2 = 1. / m * np.dot(dZ2, A1.T)\n",
    "    db2 = 1. / m * np.sum(dZ2, axis=1, keepdims=True)\n",
    "    \n",
    "    dA1 = np.dot(W2.T, dZ2)\n",
    "    ### START CODE HERE ### (≈ 2 lines of code)\n",
    "    dA1 = dA1 * D1              # Step 1: Apply mask D1 to shut down the same neurons as during the forward propagation\n",
    "    dA1 = dA1 / keep_prob              # Step 2: Scale the value of neurons that haven't been shut down\n",
    "    ### END CODE HERE ###\n",
    "    dZ1 = np.multiply(dA1, np.int64(A1 > 0))\n",
    "    dW1 = 1. / m * np.dot(dZ1, X.T)\n",
    "    db1 = 1. / m * np.sum(dZ1, axis=1, keepdims=True)\n",
    "    \n",
    "    gradients = {\"dZ3\": dZ3, \"dW3\": dW3, \"db3\": db3,\"dA2\": dA2,\n",
    "                 \"dZ2\": dZ2, \"dW2\": dW2, \"db2\": db2, \"dA1\": dA1, \n",
    "                 \"dZ1\": dZ1, \"dW1\": dW1, \"db1\": db1}\n",
    "    \n",
    "    return gradients"
   ]
  },
  {
   "cell_type": "code",
   "execution_count": 32,
   "metadata": {
    "execution": {
     "iopub.execute_input": "2020-08-28T06:19:32.828480Z",
     "iopub.status.busy": "2020-08-28T06:19:32.827209Z",
     "iopub.status.idle": "2020-08-28T06:19:49.832787Z",
     "shell.execute_reply": "2020-08-28T06:19:49.833468Z"
    },
    "papermill": {
     "duration": 17.044192,
     "end_time": "2020-08-28T06:19:49.833679",
     "exception": false,
     "start_time": "2020-08-28T06:19:32.789487",
     "status": "completed"
    },
    "tags": []
   },
   "outputs": [
    {
     "name": "stdout",
     "output_type": "stream",
     "text": [
      "Cost after iteration 0: 1.96132710916346\n",
      "Cost after iteration 10000: 0.12707482796572045\n"
     ]
    },
    {
     "name": "stderr",
     "output_type": "stream",
     "text": [
      "/opt/conda/lib/python3.7/site-packages/ipykernel_launcher.py:236: RuntimeWarning: divide by zero encountered in log\n",
      "/opt/conda/lib/python3.7/site-packages/ipykernel_launcher.py:236: RuntimeWarning: invalid value encountered in multiply\n"
     ]
    },
    {
     "name": "stdout",
     "output_type": "stream",
     "text": [
      "Cost after iteration 20000: 0.12705047991164314\n"
     ]
    },
    {
     "data": {
      "image/png": "[encoded data removed]",
      "text/plain": [
       "<Figure size 432x288 with 1 Axes>"
      ]
     },
     "metadata": {
      "needs_background": "light"
     },
     "output_type": "display_data"
    },
    {
     "name": "stdout",
     "output_type": "stream",
     "text": [
      "On the train set:\n",
      "Accuracy: 0.8897058823529411\n",
      "On the test set:\n",
      "Accuracy: 0.8709677419354839\n"
     ]
    }
   ],
   "source": [
    "parameters = model(train_X, train_Y, keep_prob = 0.86, learning_rate = 0.3)\n",
    "\n",
    "print (\"On the train set:\")\n",
    "predictions_train = predict(train_X, train_Y, parameters)\n",
    "print (\"On the test set:\")\n",
    "predictions_test = predict(test_X, test_Y, parameters)"
   ]
  },
  {
   "cell_type": "code",
   "execution_count": 33,
   "metadata": {
    "execution": {
     "iopub.execute_input": "2020-08-28T06:19:49.908361Z",
     "iopub.status.busy": "2020-08-28T06:19:49.907420Z",
     "iopub.status.idle": "2020-08-28T06:19:49.910850Z",
     "shell.execute_reply": "2020-08-28T06:19:49.910085Z"
    },
    "papermill": {
     "duration": 0.041258,
     "end_time": "2020-08-28T06:19:49.910978",
     "exception": false,
     "start_time": "2020-08-28T06:19:49.869720",
     "status": "completed"
    },
    "tags": []
   },
   "outputs": [],
   "source": [
    "# we see that the accuracy on the train set and test set came closer and the accuracy on the test score ncreased making our model away from the overfittin model it was earlier.\n"
   ]
  },
  {
   "cell_type": "markdown",
   "execution_count": null,
   "metadata": {
    "papermill": {
     "duration": 0.031512,
     "end_time": "2020-08-28T06:19:49.974424",
     "exception": false,
     "start_time": "2020-08-28T06:19:49.942912",
     "status": "completed"
    },
    "tags": []
   },
   "source": [
    "Optimization"
   ]
  },
  {
   "cell_type": "code",
   "execution_count": 34,
   "metadata": {
    "execution": {
     "iopub.execute_input": "2020-08-28T06:19:50.049980Z",
     "iopub.status.busy": "2020-08-28T06:19:50.048884Z",
     "iopub.status.idle": "2020-08-28T06:19:50.052161Z",
     "shell.execute_reply": "2020-08-28T06:19:50.051519Z"
    },
    "papermill": {
     "duration": 0.046104,
     "end_time": "2020-08-28T06:19:50.052315",
     "exception": false,
     "start_time": "2020-08-28T06:19:50.006211",
     "status": "completed"
    },
    "tags": []
   },
   "outputs": [],
   "source": [
    "# GRADED FUNCTION: update_parameters_with_gd\n",
    "\n",
    "def update_parameters_with_gd(parameters, grads, learning_rate):\n",
    "    \"\"\"\n",
    "    Update parameters using one step of gradient descent\n",
    "    \n",
    "    Arguments:\n",
    "    parameters -- python dictionary containing your parameters to be updated:\n",
    "                    parameters['W' + str(l)] = Wl\n",
    "                    parameters['b' + str(l)] = bl\n",
    "    grads -- python dictionary containing your gradients to update each parameters:\n",
    "                    grads['dW' + str(l)] = dWl\n",
    "                    grads['db' + str(l)] = dbl\n",
    "    learning_rate -- the learning rate, scalar.\n",
    "    \n",
    "    Returns:\n",
    "    parameters -- python dictionary containing your updated parameters \n",
    "    \"\"\"\n",
    "\n",
    "    L = len(parameters) // 2 # number of layers in the neural networks\n",
    "\n",
    "    # Update rule for each parameter\n",
    "    for l in range(L):\n",
    "        ### START CODE HERE ### (approx. 2 lines)\n",
    "        parameters[\"W\" + str(l + 1)] = parameters[\"W\" + str(l + 1)] - learning_rate * grads[\"dW\" + str(l + 1)]\n",
    "        parameters[\"b\" + str(l + 1)] = parameters[\"b\" + str(l + 1)] - learning_rate * grads[\"db\" + str(l + 1)]\n",
    "        ### END CODE HERE ###\n",
    "        \n",
    "    return parameters"
   ]
  },
  {
   "cell_type": "code",
   "execution_count": 35,
   "metadata": {
    "execution": {
     "iopub.execute_input": "2020-08-28T06:19:50.131435Z",
     "iopub.status.busy": "2020-08-28T06:19:50.130386Z",
     "iopub.status.idle": "2020-08-28T06:19:50.136072Z",
     "shell.execute_reply": "2020-08-28T06:19:50.137160Z"
    },
    "papermill": {
     "duration": 0.052792,
     "end_time": "2020-08-28T06:19:50.137464",
     "exception": false,
     "start_time": "2020-08-28T06:19:50.084672",
     "status": "completed"
    },
    "tags": []
   },
   "outputs": [
    {
     "name": "stdout",
     "output_type": "stream",
     "text": [
      "W1 =\n",
      "[[-0.07308792  0.31361843 -0.21332611 -1.10590653 -0.39950795 -0.19239862\n",
      "   0.04560158 -0.32094694  0.40650082  0.52924291 -0.48194893  0.36630022\n",
      "  -0.0776733 ]\n",
      " [ 1.02264829 -0.17178347 -0.25669132 -0.01987487 -0.70628813  0.25051958\n",
      "  -0.12037956 -0.55450995  0.16615761  0.24357792  0.49767516 -0.91582257\n",
      "  -0.21458856]\n",
      " [ 0.31451589  0.23622057 -0.43173553 -0.00489617  0.57320603  0.51034945\n",
      "  -0.84869462 -0.3866982  -0.29930514 -0.9323712  -0.05912648 -0.08652263\n",
      "   0.5049009 ]\n",
      " [-0.13364778 -0.8318572   0.66827303 -0.1014886  -0.57166688 -0.37244139\n",
      "   0.15638708 -0.57388583  0.05039814 -0.68614631  0.03568183  0.10393039\n",
      "  -0.20708861]\n",
      " [-0.01562004  0.56225471  0.30603657 -0.42207207  0.21815431 -0.24835862\n",
      "  -0.36280067 -0.84816149  0.56975116  1.16560591 -0.13977106  0.62594034\n",
      "  -0.61071488]\n",
      " [-0.09886492  0.50124629 -0.68538477  0.30426069  0.38344175 -0.40047428\n",
      "   0.65858634 -1.0511326   0.4860324   0.49980918 -0.14650607  0.43316748\n",
      "   0.85530172]\n",
      " [-0.24596949  0.52087521 -0.80094132  0.03340776 -0.03526184 -0.02735619\n",
      "   0.09037538  0.67297128  0.29519301 -0.61901486 -1.52324845  0.11286315\n",
      "   0.33240468]\n",
      " [-0.51428178 -0.82949282  0.36163445 -0.17890776  0.29428906  0.52936418\n",
      "  -0.51150916 -0.25934213  0.76274333  0.59446075 -0.53300052 -0.40089771\n",
      "   0.29715971]\n",
      " [ 0.37709268  0.40517961 -0.17487142 -0.75986224  0.09441869 -0.07104175\n",
      "  -0.23800804 -0.31664732 -0.43811512  0.64456682 -0.11244004  0.48790249\n",
      "   0.60090046]\n",
      " [ 0.0033413   0.00954989  0.76739131 -0.31412975  0.13439046 -0.51855027\n",
      "  -0.17746311  0.18257878  0.69660972  0.29974613  0.02181861 -1.03602407\n",
      "  -0.11267816]\n",
      " [-0.36229853  0.64495077  0.49178946  0.32723008  0.43689834  0.1933801\n",
      "   0.07194402  0.57991243 -0.37788619 -0.57288298 -0.31801798 -0.48336632\n",
      "   0.00278848]\n",
      " [ 1.04468037 -0.04630732 -0.0224732   0.16280005 -0.14021605  0.1829152\n",
      "   0.58325719 -0.01883632  0.63315405 -0.6412192   0.04609652  0.1174493\n",
      "  -0.28068142]\n",
      " [-0.07343972 -0.45998461 -0.28887151  0.4938778  -0.05484787  0.32681908\n",
      "   0.02642512 -0.62378853  1.07977663 -0.28940614 -0.38304531  0.63448398\n",
      "  -0.19975323]\n",
      " [ 0.05138234  0.49022474 -0.28489672 -0.51212819 -0.3475817  -0.25473968\n",
      "  -0.43410341 -0.10940591 -0.42828081  0.42676256  0.30641497  0.5365686\n",
      "   0.400356  ]\n",
      " [ 0.23130302 -0.18703473 -1.02059669 -0.4563553  -0.01470733 -0.14978446\n",
      "   0.62383889  0.06811173 -0.35992625 -0.77214677  0.17057975 -0.31239007\n",
      "  -0.11310899]\n",
      " [-0.11251043  1.32575174  0.76652458 -0.40216998  0.35211135  0.26589796\n",
      "   0.70662142 -0.2992892   0.01204741 -0.1305203   0.88457682  0.07911464\n",
      "  -0.46671619]\n",
      " [ 0.11458851  0.08776136 -0.30383841  0.84660736 -0.33703484  0.61542825\n",
      "  -0.50493863  0.01133443  0.16690347 -0.28253498  0.56111834 -0.04883749\n",
      "  -0.34117633]\n",
      " [ 0.68515627  0.05477203  1.33363295  0.14857315  1.12196005 -0.86605047\n",
      "   0.15443061 -0.36324269  0.08178435  0.1895855   0.27929101  0.45390698\n",
      "   0.186028  ]\n",
      " [ 0.96815288 -0.24959787  0.05969823 -0.29818173 -0.1109814  -0.53762585\n",
      "  -0.4217365   1.03794796  0.18561308  0.38579328  0.11006794  0.87519039\n",
      "   0.06300126]\n",
      " [ 0.66998604  0.29819094 -0.05953956  1.04525069 -0.43900042 -0.29260766\n",
      "  -0.40054926 -0.76399306  0.51413377 -0.25593307 -0.50069311  0.91404666\n",
      "   0.43774805]]\n",
      "b1 =\n",
      "[[ 0.2123873 ]\n",
      " [-0.03351694]\n",
      " [ 0.16054359]\n",
      " [ 0.06236508]\n",
      " [ 0.10567243]\n",
      " [ 0.71217842]\n",
      " [ 0.25468572]\n",
      " [-0.08791795]\n",
      " [ 0.4825191 ]\n",
      " [ 0.38472455]\n",
      " [-0.16119855]\n",
      " [ 0.43727409]\n",
      " [-0.13578878]\n",
      " [-0.03601268]\n",
      " [ 0.08011444]\n",
      " [ 0.06414612]\n",
      " [ 0.18664365]\n",
      " [-0.19492305]\n",
      " [-0.06574484]\n",
      " [-0.21432704]]\n",
      "W2 =\n",
      "[[-0.49497355  0.86443276  0.0979657   0.63258653 -0.65842295  0.01049597\n",
      "  -1.26434391 -0.19486728 -0.29084847 -0.08151884  0.73234323 -0.87206933\n",
      "  -0.17488832 -0.62608921  0.67727636  0.91830161  0.46207685 -1.54703137\n",
      "  -0.02192854 -0.31694142]\n",
      " [ 0.28747017 -0.83878666  0.58550672 -0.46452437  0.90241356  1.67936512\n",
      "   0.16759563 -0.17828884  1.30795062 -0.22205342  0.40896228 -0.67231957\n",
      "   0.47434519  0.1541348  -0.85130816 -0.73961257  0.68741354 -0.88884529\n",
      "   0.18848323  0.36616773]\n",
      " [-0.81186874  0.22907185 -0.39920836 -0.04386847 -0.30726696 -1.02384713\n",
      "   0.27239658  1.31353383  0.06619918  1.44084552  0.71727731  0.71517416\n",
      "  -0.75143438 -0.01970205  0.25007823 -1.45216504  0.07104329  0.20431124\n",
      "  -0.59551425 -0.89918128]]\n",
      "b2 =\n",
      "[[0.41081331]\n",
      " [0.17429381]\n",
      " [0.44820716]]\n"
     ]
    }
   ],
   "source": [
    "\n",
    "parameters = update_parameters_with_gd(parameters, grads, learning_rate=0.01)\n",
    "print(\"W1 =\\n\" + str(parameters[\"W1\"]))\n",
    "print(\"b1 =\\n\" + str(parameters[\"b1\"]))\n",
    "print(\"W2 =\\n\" + str(parameters[\"W2\"]))\n",
    "print(\"b2 =\\n\" + str(parameters[\"b2\"]))"
   ]
  },
  {
   "cell_type": "code",
   "execution_count": 36,
   "metadata": {
    "execution": {
     "iopub.execute_input": "2020-08-28T06:19:50.225232Z",
     "iopub.status.busy": "2020-08-28T06:19:50.224222Z",
     "iopub.status.idle": "2020-08-28T06:19:50.227626Z",
     "shell.execute_reply": "2020-08-28T06:19:50.226845Z"
    },
    "papermill": {
     "duration": 0.050532,
     "end_time": "2020-08-28T06:19:50.227753",
     "exception": false,
     "start_time": "2020-08-28T06:19:50.177221",
     "status": "completed"
    },
    "tags": []
   },
   "outputs": [],
   "source": [
    "# mini batch gradient\n",
    "# GRADED FUNCTION: random_mini_batches\n",
    "\n",
    "def random_mini_batches(X, Y, mini_batch_size = 64, seed = 0):\n",
    "    \"\"\"\n",
    "    Creates a list of random minibatches from (X, Y)\n",
    "    \n",
    "    Arguments:\n",
    "    X -- input data, of shape (input size, number of examples)\n",
    "    Y -- true \"label\" vector (1 for blue dot / 0 for red dot), of shape (1, number of examples)\n",
    "    mini_batch_size -- size of the mini-batches, integer\n",
    "    \n",
    "    Returns:\n",
    "    mini_batches -- list of synchronous (mini_batch_X, mini_batch_Y)\n",
    "    \"\"\"\n",
    "    \n",
    "    np.random.seed(seed)            # To make your \"random\" minibatches the same as ours\n",
    "    m = X.shape[1]                  # number of training examples\n",
    "    mini_batches = []\n",
    "        \n",
    "    # Step 1: Shuffle (X, Y)\n",
    "    permutation = list(np.random.permutation(m))\n",
    "    shuffled_X = X[:, permutation]\n",
    "    shuffled_Y = Y[:, permutation].reshape((1,m))\n",
    "\n",
    "    # Step 2: Partition (shuffled_X, shuffled_Y). Minus the end case.\n",
    "    num_complete_minibatches = math.floor(m/mini_batch_size) # number of mini batches of size mini_batch_size in your partitionning\n",
    "    for k in range(0, num_complete_minibatches):\n",
    "        ### START CODE HERE ### (approx. 2 lines)\n",
    "        mini_batch_X = shuffled_X[:,k * mini_batch_size:(k + 1) * mini_batch_size]\n",
    "        mini_batch_Y = shuffled_Y[:,k * mini_batch_size:(k + 1) * mini_batch_size]\n",
    "        ### END CODE HERE ###\n",
    "        mini_batch = (mini_batch_X, mini_batch_Y)\n",
    "        mini_batches.append(mini_batch)\n",
    "    \n",
    "    # Handling the end case (last mini-batch < mini_batch_size)\n",
    "    if m % mini_batch_size != 0:\n",
    "        ### START CODE HERE ### (approx. 2 lines)\n",
    "        end = m - mini_batch_size * math.floor(m / mini_batch_size)\n",
    "        mini_batch_X = shuffled_X[:,num_complete_minibatches * mini_batch_size:]\n",
    "        mini_batch_Y = shuffled_Y[:,num_complete_minibatches * mini_batch_size:]\n",
    "        ### END CODE HERE ###\n",
    "        mini_batch = (mini_batch_X, mini_batch_Y)\n",
    "        mini_batches.append(mini_batch)\n",
    "    \n",
    "    return mini_batches"
   ]
  },
  {
   "cell_type": "code",
   "execution_count": 37,
   "metadata": {
    "execution": {
     "iopub.execute_input": "2020-08-28T06:19:50.310801Z",
     "iopub.status.busy": "2020-08-28T06:19:50.310036Z",
     "iopub.status.idle": "2020-08-28T06:19:50.313706Z",
     "shell.execute_reply": "2020-08-28T06:19:50.312956Z"
    },
    "papermill": {
     "duration": 0.053527,
     "end_time": "2020-08-28T06:19:50.313826",
     "exception": false,
     "start_time": "2020-08-28T06:19:50.260299",
     "status": "completed"
    },
    "tags": []
   },
   "outputs": [],
   "source": [
    "# momentum\n",
    "# GRADED FUNCTION: initialize_velocity\n",
    "\n",
    "def initialize_velocity(parameters):\n",
    "    \"\"\"\n",
    "    Initializes the velocity as a python dictionary with:\n",
    "                - keys: \"dW1\", \"db1\", ..., \"dWL\", \"dbL\" \n",
    "                - values: numpy arrays of zeros of the same shape as the corresponding gradients/parameters.\n",
    "    Arguments:\n",
    "    parameters -- python dictionary containing your parameters.\n",
    "                    parameters['W' + str(l)] = Wl\n",
    "                    parameters['b' + str(l)] = bl\n",
    "    \n",
    "    Returns:\n",
    "    v -- python dictionary containing the current velocity.\n",
    "                    v['dW' + str(l)] = velocity of dWl\n",
    "                    v['db' + str(l)] = velocity of dbl\n",
    "    \"\"\"\n",
    "    \n",
    "    L = len(parameters) // 2 # number of layers in the neural networks\n",
    "    v = {}\n",
    "    \n",
    "    # Initialize velocity\n",
    "    for l in range(L):\n",
    "        ### START CODE HERE ### (approx. 2 lines)\n",
    "        v[\"dW\" + str(l + 1)] = np.zeros_like(parameters[\"W\" + str(l+1)])\n",
    "        v[\"db\" + str(l + 1)] = np.zeros_like(parameters[\"b\" + str(l+1)])\n",
    "        ### END CODE HERE ###\n",
    "        \n",
    "    return v\n"
   ]
  },
  {
   "cell_type": "code",
   "execution_count": 38,
   "metadata": {
    "execution": {
     "iopub.execute_input": "2020-08-28T06:19:50.443348Z",
     "iopub.status.busy": "2020-08-28T06:19:50.442249Z",
     "iopub.status.idle": "2020-08-28T06:19:50.445751Z",
     "shell.execute_reply": "2020-08-28T06:19:50.445023Z"
    },
    "papermill": {
     "duration": 0.049439,
     "end_time": "2020-08-28T06:19:50.445875",
     "exception": false,
     "start_time": "2020-08-28T06:19:50.396436",
     "status": "completed"
    },
    "tags": []
   },
   "outputs": [],
   "source": [
    "# GRADED FUNCTION: update_parameters_with_momentum\n",
    "\n",
    "def update_parameters_with_momentum(parameters, grads, v, beta, learning_rate):\n",
    "    \"\"\"\n",
    "    Update parameters using Momentum\n",
    "    \n",
    "    Arguments:\n",
    "    parameters -- python dictionary containing your parameters:\n",
    "                    parameters['W' + str(l)] = Wl\n",
    "                    parameters['b' + str(l)] = bl\n",
    "    grads -- python dictionary containing your gradients for each parameters:\n",
    "                    grads['dW' + str(l)] = dWl\n",
    "                    grads['db' + str(l)] = dbl\n",
    "    v -- python dictionary containing the current velocity:\n",
    "                    v['dW' + str(l)] = ...\n",
    "                    v['db' + str(l)] = ...\n",
    "    beta -- the momentum hyperparameter, scalar\n",
    "    learning_rate -- the learning rate, scalar\n",
    "    \n",
    "    Returns:\n",
    "    parameters -- python dictionary containing your updated parameters \n",
    "    v -- python dictionary containing your updated velocities\n",
    "    \"\"\"\n",
    "\n",
    "    L = len(parameters) // 2 # number of layers in the neural networks\n",
    "    \n",
    "    # Momentum update for each parameter\n",
    "    for l in range(L):\n",
    "        \n",
    "        ### START CODE HERE ### (approx. 4 lines)\n",
    "        # compute velocities\n",
    "        v[\"dW\" + str(l + 1)] = beta * v[\"dW\" + str(l + 1)] + (1 - beta) * grads['dW' + str(l + 1)]\n",
    "        v[\"db\" + str(l + 1)] = beta * v[\"db\" + str(l + 1)] + (1 - beta) * grads['db' + str(l + 1)]\n",
    "        # update parameters\n",
    "        parameters[\"W\" + str(l + 1)] = parameters[\"W\" + str(l + 1)] - learning_rate * v[\"dW\" + str(l + 1)]\n",
    "        parameters[\"b\" + str(l + 1)] = parameters[\"b\" + str(l + 1)] - learning_rate * v[\"db\" + str(l + 1)]\n",
    "        ### END CODE HERE ###\n",
    "        \n",
    "    return parameters, v"
   ]
  },
  {
   "cell_type": "code",
   "execution_count": 39,
   "metadata": {
    "execution": {
     "iopub.execute_input": "2020-08-28T06:19:50.522849Z",
     "iopub.status.busy": "2020-08-28T06:19:50.521711Z",
     "iopub.status.idle": "2020-08-28T06:19:50.525339Z",
     "shell.execute_reply": "2020-08-28T06:19:50.524557Z"
    },
    "papermill": {
     "duration": 0.047769,
     "end_time": "2020-08-28T06:19:50.525471",
     "exception": false,
     "start_time": "2020-08-28T06:19:50.477702",
     "status": "completed"
    },
    "tags": []
   },
   "outputs": [],
   "source": [
    "# GRADED FUNCTION: initialize_adam\n",
    "\n",
    "def initialize_adam(parameters) :\n",
    "    \"\"\"\n",
    "    Initializes v and s as two python dictionaries with:\n",
    "                - keys: \"dW1\", \"db1\", ..., \"dWL\", \"dbL\" \n",
    "                - values: numpy arrays of zeros of the same shape as the corresponding gradients/parameters.\n",
    "    \n",
    "    Arguments:\n",
    "    parameters -- python dictionary containing your parameters.\n",
    "                    parameters[\"W\" + str(l)] = Wl\n",
    "                    parameters[\"b\" + str(l)] = bl\n",
    "    \n",
    "    Returns: \n",
    "    v -- python dictionary that will contain the exponentially weighted average of the gradient.\n",
    "                    v[\"dW\" + str(l)] = ...\n",
    "                    v[\"db\" + str(l)] = ...\n",
    "    s -- python dictionary that will contain the exponentially weighted average of the squared gradient.\n",
    "                    s[\"dW\" + str(l)] = ...\n",
    "                    s[\"db\" + str(l)] = ...\n",
    "\n",
    "    \"\"\"\n",
    "    \n",
    "    L = len(parameters) // 2 # number of layers in the neural networks\n",
    "    v = {}\n",
    "    s = {}\n",
    "    \n",
    "    # Initialize v, s. Input: \"parameters\". Outputs: \"v, s\".\n",
    "    for l in range(L):\n",
    "    ### START CODE HERE ### (approx. 4 lines)\n",
    "        v[\"dW\" + str(l + 1)] = np.zeros_like(parameters[\"W\" + str(l + 1)])\n",
    "        v[\"db\" + str(l + 1)] = np.zeros_like(parameters[\"b\" + str(l + 1)])\n",
    "\n",
    "        s[\"dW\" + str(l+1)] = np.zeros_like(parameters[\"W\" + str(l + 1)])\n",
    "        s[\"db\" + str(l+1)] = np.zeros_like(parameters[\"b\" + str(l + 1)])\n",
    "    ### END CODE HERE ###\n",
    "    \n",
    "    return v, s"
   ]
  },
  {
   "cell_type": "code",
   "execution_count": 40,
   "metadata": {
    "execution": {
     "iopub.execute_input": "2020-08-28T06:19:50.608927Z",
     "iopub.status.busy": "2020-08-28T06:19:50.598438Z",
     "iopub.status.idle": "2020-08-28T06:19:50.619887Z",
     "shell.execute_reply": "2020-08-28T06:19:50.619109Z"
    },
    "papermill": {
     "duration": 0.062509,
     "end_time": "2020-08-28T06:19:50.620034",
     "exception": false,
     "start_time": "2020-08-28T06:19:50.557525",
     "status": "completed"
    },
    "tags": []
   },
   "outputs": [],
   "source": [
    "# GRADED FUNCTION: update_parameters_with_adam\n",
    "\n",
    "def update_parameters_with_adam(parameters, grads, v, s, t, learning_rate=0.01,\n",
    "                                beta1=0.9, beta2=0.999, epsilon=1e-8):\n",
    "    \"\"\"\n",
    "    Update parameters using Adam\n",
    "    \n",
    "    Arguments:\n",
    "    parameters -- python dictionary containing your parameters:\n",
    "                    parameters['W' + str(l)] = Wl\n",
    "                    parameters['b' + str(l)] = bl\n",
    "    grads -- python dictionary containing your gradients for each parameters:\n",
    "                    grads['dW' + str(l)] = dWl\n",
    "                    grads['db' + str(l)] = dbl\n",
    "    v -- Adam variable, moving average of the first gradient, python dictionary\n",
    "    s -- Adam variable, moving average of the squared gradient, python dictionary\n",
    "    learning_rate -- the learning rate, scalar.\n",
    "    beta1 -- Exponential decay hyperparameter for the first moment estimates \n",
    "    beta2 -- Exponential decay hyperparameter for the second moment estimates \n",
    "    epsilon -- hyperparameter preventing division by zero in Adam updates\n",
    "\n",
    "    Returns:\n",
    "    parameters -- python dictionary containing your updated parameters \n",
    "    v -- Adam variable, moving average of the first gradient, python dictionary\n",
    "    s -- Adam variable, moving average of the squared gradient, python dictionary\n",
    "    \"\"\"\n",
    "    \n",
    "    L = len(parameters) // 2                 # number of layers in the neural networks\n",
    "    v_corrected = {}                         # Initializing first moment estimate, python dictionary\n",
    "    s_corrected = {}                         # Initializing second moment estimate, python dictionary\n",
    "    \n",
    "    # Perform Adam update on all parameters\n",
    "    for l in range(L):\n",
    "        # Moving average of the gradients. Inputs: \"v, grads, beta1\". Output: \"v\".\n",
    "        ### START CODE HERE ### (approx. 2 lines)\n",
    "        v[\"dW\" + str(l + 1)] = beta1 * v[\"dW\" + str(l + 1)] + (1 - beta1) * grads['dW' + str(l + 1)]\n",
    "        v[\"db\" + str(l + 1)] = beta1 * v[\"db\" + str(l + 1)] + (1 - beta1) * grads['db' + str(l + 1)]\n",
    "        ### END CODE HERE ###\n",
    "\n",
    "        # Compute bias-corrected first moment estimate. Inputs: \"v, beta1, t\". Output: \"v_corrected\".\n",
    "        ### START CODE HERE ### (approx. 2 lines)\n",
    "        v_corrected[\"dW\" + str(l + 1)] = v[\"dW\" + str(l + 1)] / (1 - np.power(beta1, t))\n",
    "        v_corrected[\"db\" + str(l + 1)] = v[\"db\" + str(l + 1)] / (1 - np.power(beta1, t))\n",
    "        ### END CODE HERE ###\n",
    "\n",
    "        # Moving average of the squared gradients. Inputs: \"s, grads, beta2\". Output: \"s\".\n",
    "        ### START CODE HERE ### (approx. 2 lines)\n",
    "        s[\"dW\" + str(l + 1)] = beta2 * s[\"dW\" + str(l + 1)] + (1 - beta2) * np.power(grads['dW' + str(l + 1)], 2)\n",
    "        s[\"db\" + str(l + 1)] = beta2 * s[\"db\" + str(l + 1)] + (1 - beta2) * np.power(grads['db' + str(l + 1)], 2)\n",
    "        ### END CODE HERE ###\n",
    "\n",
    "        # Compute bias-corrected second raw moment estimate. Inputs: \"s, beta2, t\". Output: \"s_corrected\".\n",
    "        ### START CODE HERE ### (approx. 2 lines)\n",
    "        s_corrected[\"dW\" + str(l + 1)] = s[\"dW\" + str(l + 1)] / (1 - np.power(beta2, t))\n",
    "        s_corrected[\"db\" + str(l + 1)] = s[\"db\" + str(l + 1)] / (1 - np.power(beta2, t))\n",
    "        ### END CODE HERE ###\n",
    "\n",
    "        # Update parameters. Inputs: \"parameters, learning_rate, v_corrected, s_corrected, epsilon\". Output: \"parameters\".\n",
    "        ### START CODE HERE ### (approx. 2 lines)\n",
    "        parameters[\"W\" + str(l + 1)] = parameters[\"W\" + str(l + 1)] - learning_rate * v_corrected[\"dW\" + str(l + 1)] / np.sqrt(s_corrected[\"dW\" + str(l + 1)] + epsilon)\n",
    "        parameters[\"b\" + str(l + 1)] = parameters[\"b\" + str(l + 1)] - learning_rate * v_corrected[\"db\" + str(l + 1)] / np.sqrt(s_corrected[\"db\" + str(l + 1)] + epsilon)\n",
    "        ### END CODE HERE ###\n",
    "\n",
    "    return parameters, v, s"
   ]
  },
  {
   "cell_type": "code",
   "execution_count": 41,
   "metadata": {
    "execution": {
     "iopub.execute_input": "2020-08-28T06:19:50.708345Z",
     "iopub.status.busy": "2020-08-28T06:19:50.707283Z",
     "iopub.status.idle": "2020-08-28T06:19:50.710595Z",
     "shell.execute_reply": "2020-08-28T06:19:50.709960Z"
    },
    "papermill": {
     "duration": 0.057502,
     "end_time": "2020-08-28T06:19:50.710725",
     "exception": false,
     "start_time": "2020-08-28T06:19:50.653223",
     "status": "completed"
    },
    "tags": []
   },
   "outputs": [],
   "source": [
    "def model(X, Y, layers_dims, optimizer, learning_rate=0.0007, mini_batch_size=64, beta=0.9,\n",
    "          beta1=0.9, beta2=0.999, epsilon=1e-8, num_epochs=10000, print_cost=True):\n",
    "    \"\"\"\n",
    "    3-layer neural network model which can be run in different optimizer modes.\n",
    "    \n",
    "    Arguments:\n",
    "    X -- input data, of shape (2, number of examples)\n",
    "    Y -- true \"label\" vector (1 for blue dot / 0 for red dot), of shape (1, number of examples)\n",
    "    layers_dims -- python list, containing the size of each layer\n",
    "    learning_rate -- the learning rate, scalar.\n",
    "    mini_batch_size -- the size of a mini batch\n",
    "    beta -- Momentum hyperparameter\n",
    "    beta1 -- Exponential decay hyperparameter for the past gradients estimates \n",
    "    beta2 -- Exponential decay hyperparameter for the past squared gradients estimates \n",
    "    epsilon -- hyperparameter preventing division by zero in Adam updates\n",
    "    num_epochs -- number of epochs\n",
    "    print_cost -- True to print the cost every 1000 epochs\n",
    "\n",
    "    Returns:\n",
    "    parameters -- python dictionary containing your updated parameters \n",
    "    \"\"\"\n",
    "\n",
    "    L = len(layers_dims)             # number of layers in the neural networks\n",
    "    costs = []                       # to keep track of the cost\n",
    "    t = 0                            # initializing the counter required for Adam update\n",
    "    seed = 10                        # For grading purposes, so that your \"random\" minibatches are the same as ours\n",
    "    \n",
    "    # Initialize parameters\n",
    "    parameters = initialize_parameters(layers_dims)\n",
    "\n",
    "    # Initialize the optimizer\n",
    "    if optimizer == \"gd\":\n",
    "        pass # no initialization required for gradient descent\n",
    "    elif optimizer == \"momentum\":\n",
    "        v = initialize_velocity(parameters)\n",
    "    elif optimizer == \"adam\":\n",
    "        v, s = initialize_adam(parameters)\n",
    "    \n",
    "    # Optimization loop\n",
    "    for i in range(num_epochs):\n",
    "        \n",
    "        # Define the random minibatches. We increment the seed to reshuffle differently the dataset after each epoch\n",
    "        seed = seed + 1\n",
    "        minibatches = random_mini_batches(X, Y, mini_batch_size, seed)\n",
    "\n",
    "        for minibatch in minibatches:\n",
    "\n",
    "            # Select a minibatch\n",
    "            (minibatch_X, minibatch_Y) = minibatch\n",
    "\n",
    "            # Forward propagation\n",
    "            a3, caches = forward_propagation(minibatch_X, parameters)\n",
    "\n",
    "            # Compute cost\n",
    "            cost = compute_cost(a3, minibatch_Y)\n",
    "\n",
    "            # Backward propagation\n",
    "            grads = backward_propagation(minibatch_X, minibatch_Y, caches)\n",
    "\n",
    "            # Update parameters\n",
    "            if optimizer == \"gd\":\n",
    "                parameters = update_parameters_with_gd(parameters, grads, learning_rate)\n",
    "            elif optimizer == \"momentum\":\n",
    "                parameters, v = update_parameters_with_momentum(parameters, grads, v, beta, learning_rate)\n",
    "            elif optimizer == \"adam\":\n",
    "                t = t + 1 # Adam counter\n",
    "                parameters, v, s = update_parameters_with_adam(parameters, grads, v, s,\n",
    "                                                               t, learning_rate, beta1, beta2,  epsilon)\n",
    "        \n",
    "        # Print the cost every 1000 epoch\n",
    "        if print_cost and i % 1000 == 0:\n",
    "            print(\"Cost after epoch %i: %f\" % (i, cost))\n",
    "        if print_cost and i % 100 == 0:\n",
    "            costs.append(cost)\n",
    "                \n",
    "    # plot the cost\n",
    "    plt.plot(costs)\n",
    "    plt.ylabel('cost')\n",
    "    plt.xlabel('epochs (per 100)')\n",
    "    plt.title(\"Learning rate = \" + str(learning_rate))\n",
    "    plt.show()\n",
    "\n",
    "    return parameters"
   ]
  },
  {
   "cell_type": "code",
   "execution_count": 42,
   "metadata": {
    "execution": {
     "iopub.execute_input": "2020-08-28T06:19:50.787257Z",
     "iopub.status.busy": "2020-08-28T06:19:50.786345Z",
     "iopub.status.idle": "2020-08-28T06:20:04.822061Z",
     "shell.execute_reply": "2020-08-28T06:20:04.821261Z"
    },
    "papermill": {
     "duration": 14.078984,
     "end_time": "2020-08-28T06:20:04.822193",
     "exception": false,
     "start_time": "2020-08-28T06:19:50.743209",
     "status": "completed"
    },
    "tags": []
   },
   "outputs": [
    {
     "name": "stdout",
     "output_type": "stream",
     "text": [
      "Cost after epoch 0: 0.899868\n",
      "Cost after epoch 1000: 0.674821\n",
      "Cost after epoch 2000: 0.565226\n",
      "Cost after epoch 3000: 0.425591\n",
      "Cost after epoch 4000: 0.427469\n",
      "Cost after epoch 5000: 0.368361\n",
      "Cost after epoch 6000: 0.255373\n",
      "Cost after epoch 7000: 0.246233\n",
      "Cost after epoch 8000: 0.226642\n",
      "Cost after epoch 9000: 0.411027\n"
     ]
    },
    {
     "data": {
      "image/png": "[encoded data removed]",
      "text/plain": [
       "<Figure size 432x288 with 1 Axes>"
      ]
     },
     "metadata": {
      "needs_background": "light"
     },
     "output_type": "display_data"
    },
    {
     "name": "stdout",
     "output_type": "stream",
     "text": [
      "Accuracy: 0.8529411764705882\n"
     ]
    }
   ],
   "source": [
    "# train 3-layer model\n",
    "import math\n",
    "layers_dims = [train_X.shape[0], 5, 2, 1]\n",
    "parameters = model(train_X, train_Y, layers_dims, optimizer = \"gd\")\n",
    "\n",
    "# Predict\n",
    "predictions = predict(train_X, train_Y, parameters)\n",
    "\n"
   ]
  },
  {
   "cell_type": "code",
   "execution_count": 43,
   "metadata": {
    "execution": {
     "iopub.execute_input": "2020-08-28T06:20:04.897130Z",
     "iopub.status.busy": "2020-08-28T06:20:04.896348Z",
     "iopub.status.idle": "2020-08-28T06:20:21.167199Z",
     "shell.execute_reply": "2020-08-28T06:20:21.168093Z"
    },
    "papermill": {
     "duration": 16.31233,
     "end_time": "2020-08-28T06:20:21.168305",
     "exception": false,
     "start_time": "2020-08-28T06:20:04.855975",
     "status": "completed"
    },
    "tags": []
   },
   "outputs": [
    {
     "name": "stdout",
     "output_type": "stream",
     "text": [
      "Cost after epoch 0: 0.900529\n",
      "Cost after epoch 1000: 0.674948\n",
      "Cost after epoch 2000: 0.565445\n",
      "Cost after epoch 3000: 0.425886\n",
      "Cost after epoch 4000: 0.427649\n",
      "Cost after epoch 5000: 0.368597\n",
      "Cost after epoch 6000: 0.255380\n",
      "Cost after epoch 7000: 0.246229\n",
      "Cost after epoch 8000: 0.226656\n",
      "Cost after epoch 9000: 0.411040\n"
     ]
    },
    {
     "data": {
      "image/png": "[encoded data removed]",
      "text/plain": [
       "<Figure size 432x288 with 1 Axes>"
      ]
     },
     "metadata": {
      "needs_background": "light"
     },
     "output_type": "display_data"
    },
    {
     "name": "stdout",
     "output_type": "stream",
     "text": [
      "Accuracy: 0.8529411764705882\n"
     ]
    }
   ],
   "source": [
    "# Using momentum optimization method\n",
    "# train 3-layer model\n",
    "layers_dims = [train_X.shape[0], 5, 2, 1]\n",
    "parameters = model(train_X, train_Y, layers_dims, beta = 0.9, optimizer = \"momentum\")\n",
    "\n",
    "# Predict\n",
    "predictions = predict(train_X, train_Y, parameters)\n",
    "\n"
   ]
  },
  {
   "cell_type": "code",
   "execution_count": 44,
   "metadata": {
    "execution": {
     "iopub.execute_input": "2020-08-28T06:20:21.249831Z",
     "iopub.status.busy": "2020-08-28T06:20:21.248745Z",
     "iopub.status.idle": "2020-08-28T06:20:50.121208Z",
     "shell.execute_reply": "2020-08-28T06:20:50.120324Z"
    },
    "papermill": {
     "duration": 28.915077,
     "end_time": "2020-08-28T06:20:50.121400",
     "exception": false,
     "start_time": "2020-08-28T06:20:21.206323",
     "status": "completed"
    },
    "tags": []
   },
   "outputs": [
    {
     "name": "stdout",
     "output_type": "stream",
     "text": [
      "Cost after epoch 0: 0.890200\n",
      "Cost after epoch 1000: 0.456226\n",
      "Cost after epoch 2000: 0.187045\n"
     ]
    },
    {
     "name": "stderr",
     "output_type": "stream",
     "text": [
      "/opt/conda/lib/python3.7/site-packages/ipykernel_launcher.py:236: RuntimeWarning: divide by zero encountered in log\n",
      "/opt/conda/lib/python3.7/site-packages/ipykernel_launcher.py:236: RuntimeWarning: invalid value encountered in multiply\n"
     ]
    },
    {
     "name": "stdout",
     "output_type": "stream",
     "text": [
      "Cost after epoch 3000: 0.448377\n",
      "Cost after epoch 4000: 0.222536\n",
      "Cost after epoch 5000: 0.214690\n",
      "Cost after epoch 6000: 0.017157\n",
      "Cost after epoch 7000: 0.030176\n",
      "Cost after epoch 8000: 0.027318\n",
      "Cost after epoch 9000: 0.020331\n"
     ]
    },
    {
     "data": {
      "image/png": "[encoded data removed]",
      "text/plain": [
       "<Figure size 432x288 with 1 Axes>"
      ]
     },
     "metadata": {
      "needs_background": "light"
     },
     "output_type": "display_data"
    },
    {
     "name": "stdout",
     "output_type": "stream",
     "text": [
      "Accuracy: 0.9779411764705882\n"
     ]
    }
   ],
   "source": [
    "#mini batch using the adam method\n",
    "# train 3-layer model\n",
    "layers_dims = [train_X.shape[0], 5, 2, 1]\n",
    "parameters = model(train_X, train_Y, layers_dims, optimizer = \"adam\")\n",
    "\n",
    "# Predict\n",
    "predictions = predict(train_X, train_Y, parameters)\n"
   ]
  },
  {
   "cell_type": "code",
   "execution_count": 45,
   "metadata": {
    "execution": {
     "iopub.execute_input": "2020-08-28T06:20:50.200110Z",
     "iopub.status.busy": "2020-08-28T06:20:50.199021Z",
     "iopub.status.idle": "2020-08-28T06:20:50.202719Z",
     "shell.execute_reply": "2020-08-28T06:20:50.201959Z"
    },
    "papermill": {
     "duration": 0.044645,
     "end_time": "2020-08-28T06:20:50.202865",
     "exception": false,
     "start_time": "2020-08-28T06:20:50.158220",
     "status": "completed"
    },
    "tags": []
   },
   "outputs": [],
   "source": [
    "# as we can see that the adam optimizer gave out an accuracy of about 98 percent which is pretty good right now\n"
   ]
  },
  {
   "cell_type": "markdown",
   "execution_count": null,
   "metadata": {
    "papermill": {
     "duration": 0.036108,
     "end_time": "2020-08-28T06:20:50.275313",
     "exception": false,
     "start_time": "2020-08-28T06:20:50.239205",
     "status": "completed"
    },
    "tags": []
   },
   "source": [
    "From this we can see that the adam optimizer was the best as it gave an accuracy of about 97 percent but mmetum would be great too but in this situation it wasn't because of small and simple dataset and low learning rate ...."
   ]
  },
  {
   "cell_type": "code",
   "execution_count": null,
   "metadata": {
    "papermill": {
     "duration": 0.036063,
     "end_time": "2020-08-28T06:20:50.347944",
     "exception": false,
     "start_time": "2020-08-28T06:20:50.311881",
     "status": "completed"
    },
    "tags": []
   },
   "outputs": [],
   "source": []
  }
 ],
 "metadata": {
  "kernelspec": {
   "display_name": "Python 3",
   "language": "python",
   "name": "python3"
  },
  "language_info": {
   "codemirror_mode": {
    "name": "ipython",
    "version": 3
   },
   "file_extension": ".py",
   "mimetype": "text/x-python",
   "name": "python",
   "nbconvert_exporter": "python",
   "pygments_lexer": "ipython3",
   "version": "3.7.6"
  },
  "papermill": {
   "duration": 126.944859,
   "end_time": "2020-08-28T06:20:50.491718",
   "environment_variables": {},
   "exception": null,
   "input_path": "__notebook__.ipynb",
   "output_path": "__notebook__.ipynb",
   "parameters": {},
   "start_time": "2020-08-28T06:18:43.546859",
   "version": "2.1.0"
  }
 },
 "nbformat": 4,
 "nbformat_minor": 4
}
